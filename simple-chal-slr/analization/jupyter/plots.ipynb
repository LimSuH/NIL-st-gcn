{
 "cells": [
  {
   "cell_type": "code",
   "execution_count": 2,
   "metadata": {},
   "outputs": [],
   "source": [
    "import os\n",
    "import sys\n",
    "from turtle import color\n",
    "import numpy as np\n",
    "from natsort import natsorted\n",
    "import cv2 \n",
    "import matplotlib.pyplot as plt"
   ]
  },
  {
   "cell_type": "code",
   "execution_count": 3,
   "metadata": {},
   "outputs": [],
   "source": [
    "def load_npy(path):\n",
    "    npy_list = []\n",
    "    samples = os.listdir(path)\n",
    "\n",
    "    for i, npy_path in enumerate(samples):\n",
    "        print('\\rnow loading npy files from {}: ({} / {})'.format(path, i + 1, len(samples)), end='')\n",
    "\n",
    "        if i == 0 :\n",
    "            data_npy = np.load(os.path.join(path, npy_path))\n",
    "                \n",
    "            continue\n",
    "    \n",
    "        data = np.load(os.path.join(path, npy_path))\n",
    "        data_npy = np.concatenate((data_npy, data))\n",
    "        \n",
    "\n",
    "\n",
    "    return data_npy\n",
    "\n",
    "def separation(data_npy, norm = False):\n",
    "    \n",
    "    x = data_npy[:, :, 0]\n",
    "    y = data_npy[:, :, 1]\n",
    "\n",
    "    x = np.reshape(x, (x.shape[0] * x.shape[1], 1))\n",
    "    y = np.reshape(y, (y.shape[0] * y.shape[1], 1))\n",
    "\n",
    "    x = np.squeeze(x, axis=1)\n",
    "    y = np.squeeze(y, axis=1)\n",
    "\n",
    "    if norm:\n",
    "        x = (x - np.mean(x)) / np.std(x)\n",
    "        y = (y - np.mean(y)) / np.std(y)\n",
    "\n",
    "    return x, y\n",
    "    \n",
    "\n",
    "\n",
    "def len_frame(npy_list):\n",
    "    #가져온 npy파일로 프레임 길이를 세기 (frame, keypoit, channel) - .shape[0]\n",
    "    whole_frame = []\n",
    "\n",
    "    for i, one_npy in enumerate(npy_list):\n",
    "        print('\\rnow analizing npy files.... ({} / {})'.format(i + 1, len(npy_list)), end='')\n",
    "        whole_frame.append(one_npy.shape[0])\n",
    "    print(\"\\n\")\n",
    "    return whole_frame"
   ]
  },
  {
   "cell_type": "code",
   "execution_count": 3,
   "metadata": {},
   "outputs": [],
   "source": [
    "AUTSL_PATH = '/dataset/AUTSL'\n",
    "KETI_PATH = '/dataset/KETI_SignLanguage/Keypoints-removal'"
   ]
  },
  {
   "cell_type": "code",
   "execution_count": 6,
   "metadata": {},
   "outputs": [
    {
     "name": "stdout",
     "output_type": "stream",
     "text": [
      "now loading npy files from /dataset/AUTSL/test_npy: (3742 / 3742)42)"
     ]
    }
   ],
   "source": [
    "a = load_npy(AUTSL_PATH + '/train_npy')\n",
    "b = load_npy(AUTSL_PATH + '/test_npy')"
   ]
  },
  {
   "cell_type": "code",
   "execution_count": 7,
   "metadata": {},
   "outputs": [],
   "source": [
    "AUTSL_npy = np.concatenate((a, b))"
   ]
  },
  {
   "cell_type": "code",
   "execution_count": 11,
   "metadata": {},
   "outputs": [
    {
     "name": "stdout",
     "output_type": "stream",
     "text": [
      "now loading npy files from /dataset/AUTSL/val_npy: (4418 / 4418)load success: AUTSL has 2213640 npy files.\n",
      "\n"
     ]
    }
   ],
   "source": [
    "AUTSL_npy = np.concatenate((AUTSL_npy, load_npy(AUTSL_PATH + '/val_npy')))\n",
    "print(\"load success: {} has {} npy files.\\n\".format(AUTSL_PATH.split('/')[2], AUTSL_npy.shape[0]))"
   ]
  },
  {
   "cell_type": "code",
   "execution_count": null,
   "metadata": {},
   "outputs": [],
   "source": [
    "KETI_npy = load_npy(KETI_PATH)\n",
    "print(\"load success: {} has {} npy files.\\n\\n\".format(KETI_PATH.split('/')[2],KETI_npy.shape[0]))"
   ]
  },
  {
   "cell_type": "code",
   "execution_count": 4,
   "metadata": {},
   "outputs": [
    {
     "ename": "FileNotFoundError",
     "evalue": "[Errno 2] No such file or directory: '../AUTSL_merge.npy'",
     "output_type": "error",
     "traceback": [
      "\u001b[0;31m---------------------------------------------------------------------------\u001b[0m",
      "\u001b[0;31mFileNotFoundError\u001b[0m                         Traceback (most recent call last)",
      "\u001b[1;32m/users/suhyeon/GitHub/NIL-st-gcn/simple-chal-slr/analization/plots.ipynb 셀 8\u001b[0m in \u001b[0;36m<cell line: 5>\u001b[0;34m()\u001b[0m\n\u001b[1;32m      <a href='vscode-notebook-cell://ssh-remote%2B7b22686f73744e616d65223a224e6575726f6e332d6c6162227d/users/suhyeon/GitHub/NIL-st-gcn/simple-chal-slr/analization/plots.ipynb#X10sdnNjb2RlLXJlbW90ZQ%3D%3D?line=0'>1</a>\u001b[0m \u001b[39m# save & load saving file\u001b[39;00m\n\u001b[1;32m      <a href='vscode-notebook-cell://ssh-remote%2B7b22686f73744e616d65223a224e6575726f6e332d6c6162227d/users/suhyeon/GitHub/NIL-st-gcn/simple-chal-slr/analization/plots.ipynb#X10sdnNjb2RlLXJlbW90ZQ%3D%3D?line=1'>2</a>\u001b[0m \u001b[39m# np.save('../AUTSL_merge.npy', AUTSL_npy)\u001b[39;00m\n\u001b[1;32m      <a href='vscode-notebook-cell://ssh-remote%2B7b22686f73744e616d65223a224e6575726f6e332d6c6162227d/users/suhyeon/GitHub/NIL-st-gcn/simple-chal-slr/analization/plots.ipynb#X10sdnNjb2RlLXJlbW90ZQ%3D%3D?line=2'>3</a>\u001b[0m \u001b[39m# np.save('../KETI_merge.npy', KETI_npy)\u001b[39;00m\n\u001b[0;32m----> <a href='vscode-notebook-cell://ssh-remote%2B7b22686f73744e616d65223a224e6575726f6e332d6c6162227d/users/suhyeon/GitHub/NIL-st-gcn/simple-chal-slr/analization/plots.ipynb#X10sdnNjb2RlLXJlbW90ZQ%3D%3D?line=4'>5</a>\u001b[0m AUTSL_npy \u001b[39m=\u001b[39m np\u001b[39m.\u001b[39;49mload(\u001b[39m'\u001b[39;49m\u001b[39m../AUTSL_merge.npy\u001b[39;49m\u001b[39m'\u001b[39;49m)\n\u001b[1;32m      <a href='vscode-notebook-cell://ssh-remote%2B7b22686f73744e616d65223a224e6575726f6e332d6c6162227d/users/suhyeon/GitHub/NIL-st-gcn/simple-chal-slr/analization/plots.ipynb#X10sdnNjb2RlLXJlbW90ZQ%3D%3D?line=5'>6</a>\u001b[0m KETI_npy \u001b[39m=\u001b[39m np\u001b[39m.\u001b[39mload(\u001b[39m'\u001b[39m\u001b[39m../KETI_merge.npy\u001b[39m\u001b[39m'\u001b[39m)\n",
      "File \u001b[0;32m~/miniconda3/envs/mmlab/lib/python3.10/site-packages/numpy/lib/npyio.py:407\u001b[0m, in \u001b[0;36mload\u001b[0;34m(file, mmap_mode, allow_pickle, fix_imports, encoding)\u001b[0m\n\u001b[1;32m    405\u001b[0m     own_fid \u001b[39m=\u001b[39m \u001b[39mFalse\u001b[39;00m\n\u001b[1;32m    406\u001b[0m \u001b[39melse\u001b[39;00m:\n\u001b[0;32m--> 407\u001b[0m     fid \u001b[39m=\u001b[39m stack\u001b[39m.\u001b[39menter_context(\u001b[39mopen\u001b[39;49m(os_fspath(file), \u001b[39m\"\u001b[39;49m\u001b[39mrb\u001b[39;49m\u001b[39m\"\u001b[39;49m))\n\u001b[1;32m    408\u001b[0m     own_fid \u001b[39m=\u001b[39m \u001b[39mTrue\u001b[39;00m\n\u001b[1;32m    410\u001b[0m \u001b[39m# Code to distinguish from NumPy binary files and pickles.\u001b[39;00m\n",
      "\u001b[0;31mFileNotFoundError\u001b[0m: [Errno 2] No such file or directory: '../AUTSL_merge.npy'"
     ]
    }
   ],
   "source": [
    "# save & load saving file\n",
    "# np.save('../AUTSL_merge.npy', AUTSL_npy)\n",
    "# np.save('../KETI_merge.npy', KETI_npy)\n",
    "\n",
    "AUTSL_npy = np.load('./AUTSL_merge.npy')\n",
    "KETI_npy = np.load('./KETI_merge.npy')"
   ]
  },
  {
   "cell_type": "code",
   "execution_count": null,
   "metadata": {},
   "outputs": [],
   "source": [
    "AUTSL_x_norm , AUTSL_y_norm = separation(AUTSL_npy, norm=True)\n",
    "AUTSL_x , AUTSL_y = separation(AUTSL_npy)"
   ]
  },
  {
   "cell_type": "code",
   "execution_count": null,
   "metadata": {},
   "outputs": [],
   "source": [
    "KETI_x_norm , KETI_y_norm = separation(KETI_npy, norm=True)\n",
    "KETI_x , KETI_y = separation(KETI_npy)"
   ]
  },
  {
   "cell_type": "code",
   "execution_count": null,
   "metadata": {},
   "outputs": [],
   "source": [
    "plt.subplot(2, 2, 1)\n",
    "plt.title('corrdination distribution - normalization')\n",
    "plt.scatter(AUTSL_x_norm , AUTSL_y_norm, c='red', label='AUTSL')\n",
    "plt.xlim(0, 1)\n",
    "plt.ylim(0, 1)\n",
    "plt.legend()\n",
    "plt.subplot(2, 2, 2)\n",
    "plt.scatter(KETI_x_norm , KETI_y_norm, c='blue', label='KETI')\n",
    "plt.xlim(0, 1280)\n",
    "plt.ylim(0, 720)\n",
    "plt.legend()\n",
    "\n",
    "plt.subplot(2, 2, 3)\n",
    "plt.title('corrdination distribution')\n",
    "plt.scatter(AUTSL_x_norm , AUTSL_y_norm, c='red', label='AUTSL')\n",
    "plt.xlim(0, 1280)\n",
    "plt.ylim(0, 720)\n",
    "plt.legend()\n",
    "plt.subplot(2, 2, 4)\n",
    "plt.scatter(KETI_x_norm , KETI_y_norm, c='blue', label='KETI')\n",
    "plt.xlim(0, 1280)\n",
    "plt.ylim(0, 720)\n",
    "plt.legend()\n",
    "\n",
    "plt.show()"
   ]
  },
  {
   "cell_type": "code",
   "execution_count": null,
   "metadata": {},
   "outputs": [],
   "source": [
    "plt.subplot(2, 2, 1)\n",
    "plt.title('X')\n",
    "plt.hist(AUTSL_x_norm, color='blue', alpha=0.4, bins=300, range=[0, 1], label='AUTSL', density=False)\n",
    "    \n",
    "plt.subplot(2, 2, 2)\n",
    "plt.hist(KETI_x_norm, color='red', alpha=0.4, bins=300, range=[0, 1], label='KETI', density=False)\n",
    "    \n",
    "\n",
    "plt.subplot(2, 2, 3)\n",
    "plt.title('Y')\n",
    "plt.hist(AUTSL_y, color='blue', alpha=0.4, bins=300, range=[0, 1], label='AUTSL', density=False)\n",
    "    \n",
    "plt.subplot(2, 2, 4)\n",
    "plt.hist(KETI_y, color='red', alpha=0.4, bins=300, range=[0, 1], label='KETI', density=False)\n",
    "plt.legend()\n",
    "\n",
    "plt.show()"
   ]
  }
 ],
 "metadata": {
  "kernelspec": {
   "display_name": "mmlab",
   "language": "python",
   "name": "mmlab"
  },
  "language_info": {
   "codemirror_mode": {
    "name": "ipython",
    "version": 3
   },
   "file_extension": ".py",
   "mimetype": "text/x-python",
   "name": "python",
   "nbconvert_exporter": "python",
   "pygments_lexer": "ipython3",
   "version": "3.10.4"
  },
  "orig_nbformat": 4
 },
 "nbformat": 4,
 "nbformat_minor": 2
}
