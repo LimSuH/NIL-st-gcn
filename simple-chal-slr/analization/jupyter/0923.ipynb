{
 "cells": [
  {
   "cell_type": "code",
   "execution_count": null,
   "metadata": {},
   "outputs": [],
   "source": [
    "# run to check frame information: average, variance, standard deviation  \n",
    "# dataset: AUTSL, KETI"
   ]
  },
  {
   "cell_type": "code",
   "execution_count": 4,
   "metadata": {},
   "outputs": [
    {
     "name": "stdout",
     "output_type": "stream",
     "text": [
      "/users/suhyeon/GitHub/NIL-st-gcn/simple-chal-slr/analization\n",
      "/users/suhyeon/GitHub/NIL-st-gcn/simple-chal-slr/analization\n"
     ]
    }
   ],
   "source": [
    "! pwd\n",
    "%cd /users/suhyeon/GitHub/NIL-st-gcn/simple-chal-slr/analization"
   ]
  },
  {
   "cell_type": "code",
   "execution_count": 6,
   "metadata": {},
   "outputs": [
    {
     "name": "stdout",
     "output_type": "stream",
     "text": [
      "now loading npy files from /dataset/AUTSL/train_npy: (28142 / 28142) \n",
      "now loading npy files from /dataset/AUTSL/test_npy: (3742 / 3742) \n",
      "now loading npy files from /dataset/AUTSL/val_npy: (4418 / 4418) \n",
      "load success: AUTSL has 36302 npy files.\n",
      "\n",
      "now loading npy files from /dataset/KETI_SignLanguage/Keypoints-MMPOSE: (33517 / 33517) \n",
      "load success: KETI_SignLanguage has 33517 npy files.\n",
      "\n",
      "\n",
      "now analizing npy files.... (36302 / 36302) analizing npy files.... (2280 / 36302) (16227 / 36302) analizing npy files.... (29812 / 36302)\n",
      "\n",
      "now analizing npy files.... (6254 / 33517)"
     ]
    }
   ],
   "source": [
    "! python about_frame.py"
   ]
  },
  {
   "cell_type": "code",
   "execution_count": null,
   "metadata": {},
   "outputs": [],
   "source": []
  }
 ],
 "metadata": {
  "kernelspec": {
   "display_name": "Python 3 (ipykernel)",
   "language": "python",
   "name": "python3"
  },
  "language_info": {
   "codemirror_mode": {
    "name": "ipython",
    "version": 3
   },
   "file_extension": ".py",
   "mimetype": "text/x-python",
   "name": "python",
   "nbconvert_exporter": "python",
   "pygments_lexer": "ipython3",
   "version": "3.10.4"
  },
  "orig_nbformat": 4
 },
 "nbformat": 4,
 "nbformat_minor": 2
}
