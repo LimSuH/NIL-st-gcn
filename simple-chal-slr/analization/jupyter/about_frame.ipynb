{
 "cells": [
  {
   "cell_type": "code",
   "execution_count": 10,
   "metadata": {},
   "outputs": [],
   "source": [
    "import os\n",
    "import sys\n",
    "from turtle import color\n",
    "import numpy as np\n",
    "from natsort import natsorted\n",
    "import cv2 \n",
    "import matplotlib.pyplot as plt"
   ]
  },
  {
   "cell_type": "code",
   "execution_count": 11,
   "metadata": {},
   "outputs": [],
   "source": [
    "def load_npy(path):\n",
    "    npy_list = []\n",
    "    samples = os.listdir(path)\n",
    "\n",
    "    for i, npy_path in enumerate(samples):\n",
    "        print('\\rnow loading npy files from {}: ({} / {})'.format(path, i + 1, len(samples)), end='')\n",
    "\n",
    "        data_npy = np.load(os.path.join(path, npy_path))\n",
    "        npy_list.append(data_npy)\n",
    "    print(\" \")\n",
    "    return npy_list\n",
    "\n",
    "\n",
    "def len_frame(npy_list):\n",
    "    #가져온 npy파일로 프레임 길이를 세기 (frame, keypoit, channel) - .shape[0]\n",
    "    whole_frame = []\n",
    "\n",
    "    for i, one_npy in enumerate(npy_list):\n",
    "        print('\\rnow analizing npy files.... ({} / {})'.format(i + 1, len(npy_list)), end='')\n",
    "        whole_frame.append(one_npy.shape[0])\n",
    "    print(\"\\n\")\n",
    "    return whole_frame\n"
   ]
  },
  {
   "cell_type": "code",
   "execution_count": 20,
   "metadata": {},
   "outputs": [],
   "source": [
    "AUTSL_PATH = '/dataset/AUTSL'\n",
    "KETI_PATH = '/dataset/KETI_SignLanguage/Keypoints-removal'"
   ]
  },
  {
   "cell_type": "code",
   "execution_count": 13,
   "metadata": {},
   "outputs": [
    {
     "name": "stdout",
     "output_type": "stream",
     "text": [
      "now loading npy files from /dataset/AUTSL/train_npy: (28142 / 28142) \n",
      "now loading npy files from /dataset/AUTSL/test_npy: (3742 / 3742) \n",
      "now loading npy files from /dataset/AUTSL/val_npy: (4418 / 4418) \n",
      "load success: AUTSL has 36302 npy files.\n",
      "\n"
     ]
    }
   ],
   "source": [
    "AUTSL_npy = load_npy(AUTSL_PATH + '/train_npy') + load_npy(AUTSL_PATH + '/test_npy') + load_npy(AUTSL_PATH + '/val_npy')\n",
    "print(\"load success: {} has {} npy files.\\n\".format(AUTSL_PATH.split('/')[2], len(AUTSL_npy)))"
   ]
  },
  {
   "cell_type": "code",
   "execution_count": 21,
   "metadata": {},
   "outputs": [
    {
     "name": "stdout",
     "output_type": "stream",
     "text": [
      "now loading npy files from /dataset/KETI_SignLanguage/Keypoints-removal: (33517 / 33517) \n",
      "load success: KETI_SignLanguage has 33517 npy files.\n",
      "\n",
      "\n"
     ]
    }
   ],
   "source": [
    "KETI_npy = load_npy(KETI_PATH)\n",
    "print(\"load success: {} has {} npy files.\\n\\n\".format(KETI_PATH.split('/')[2], len(KETI_npy)))"
   ]
  },
  {
   "cell_type": "code",
   "execution_count": 15,
   "metadata": {},
   "outputs": [
    {
     "name": "stdout",
     "output_type": "stream",
     "text": [
      "now analizing npy files.... (36302 / 36302)\n",
      "\n"
     ]
    }
   ],
   "source": [
    "AUTSL_frame = len_frame(AUTSL_npy)"
   ]
  },
  {
   "cell_type": "code",
   "execution_count": 22,
   "metadata": {},
   "outputs": [
    {
     "name": "stdout",
     "output_type": "stream",
     "text": [
      "now analizing npy files.... (33517 / 33517)\n",
      "\n"
     ]
    }
   ],
   "source": [
    "KETI_frame = len_frame(KETI_npy)"
   ]
  },
  {
   "cell_type": "code",
   "execution_count": 23,
   "metadata": {},
   "outputs": [
    {
     "name": "stdout",
     "output_type": "stream",
     "text": [
      "Analasis RESULT\n",
      "\n",
      "[DATASET: KETI]\n",
      " AVERAGE: 109.335\n",
      " VARIACE: 814.731\n",
      " STANDARD DEVIATION:28.543\n",
      " MAX:283.000\n",
      "________________________________________________________\n",
      "\n",
      "\n",
      "[DATASET: AUTSL]\n",
      " AVERAGE: 60.978\n",
      " VARIACE: 120.208\n",
      " STANDARD DEVIATION:10.964\n",
      " MAX:156.000\n"
     ]
    }
   ],
   "source": [
    "#show result & draw plot\n",
    "print(\"Analasis RESULT\\n\\n[DATASET: KETI]\\n AVERAGE: {:.3f}\\n VARIACE: {:.3f}\\n STANDARD DEVIATION:{:.3f}\\n MAX:{:.3f}\\n________________________________________________________\\n\\n\".format(\n",
    "        np.mean(KETI_frame), np.var(KETI_frame), np.std(KETI_frame), np.max(KETI_frame)))\n",
    "\n",
    "print(\"[DATASET: AUTSL]\\n AVERAGE: {:.3f}\\n VARIACE: {:.3f}\\n STANDARD DEVIATION:{:.3f}\\n MAX:{:.3f}\".format(\n",
    "    np.mean(AUTSL_frame), np.var(AUTSL_frame), np.std(AUTSL_frame), np.max(AUTSL_frame)))"
   ]
  },
  {
   "cell_type": "code",
   "execution_count": 24,
   "metadata": {},
   "outputs": [
    {
     "data": {
      "image/png": "[encoded data removed]",
      "text/plain": [
       "<Figure size 640x480 with 1 Axes>"
      ]
     },
     "metadata": {},
     "output_type": "display_data"
    }
   ],
   "source": [
    "plt.title('LENGTH OF FRAME')\n",
    "plt.hist(AUTSL_frame, color='blue', alpha=0.4, bins=300, range=[0, np.max(KETI_frame)], label='AUTSL', density=False)\n",
    "plt.hist(KETI_frame, color='red', alpha=0.4, bins=300, range=[0, np.max(KETI_frame)], label='KETI', density=False)\n",
    "plt.legend()\n",
    "plt.savefig('histogram.png')\n",
    "plt.show()"
   ]
  }
 ],
 "metadata": {
  "kernelspec": {
   "display_name": "mmlab",
   "language": "python",
   "name": "mmlab"
  },
  "language_info": {
   "codemirror_mode": {
    "name": "ipython",
    "version": 3
   },
   "file_extension": ".py",
   "mimetype": "text/x-python",
   "name": "python",
   "nbconvert_exporter": "python",
   "pygments_lexer": "ipython3",
   "version": "3.10.4"
  },
  "orig_nbformat": 4
 },
 "nbformat": 4,
 "nbformat_minor": 2
}
