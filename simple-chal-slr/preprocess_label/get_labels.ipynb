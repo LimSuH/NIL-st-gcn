{
 "cells": [
  {
   "cell_type": "code",
   "execution_count": 1,
   "metadata": {},
   "outputs": [],
   "source": [
    "import os\n",
    "import glob\n",
    "import numpy as np\n",
    "import pandas as pd\n",
    "import matplotlib.pyplot as plt"
   ]
  },
  {
   "cell_type": "code",
   "execution_count": 2,
   "metadata": {},
   "outputs": [
    {
     "data": {
      "text/plain": [
       "'\\ndir_2017: KETI-2017-SL-Annotation-v2_1.xlsx 파일 위치\\ndir_2018: KETI-2018-SL-Annotation-v1.xlsx 파일 위치\\ndir_video: video 폴더들이 있는 위치 (Video/0001~3000(영상)처럼 Video 내의 영상 하위폴더) ex) ../Video  \\ndir_csv: 저장하고자 하는 csv 파일 위치 (.csv 미포함)  ex) ../KETI/label\\n'"
      ]
     },
     "execution_count": 2,
     "metadata": {},
     "output_type": "execute_result"
    }
   ],
   "source": [
    "'''\n",
    "dir_2017: KETI-2017-SL-Annotation-v2_1.xlsx 파일 위치\n",
    "dir_2018: KETI-2018-SL-Annotation-v1.xlsx 파일 위치\n",
    "dir_video: video 폴더들이 있는 위치 (Video/0001~3000(영상)처럼 Video 내의 영상 하위폴더) ex) ../Video  \n",
    "dir_csv: 저장하고자 하는 csv 파일 위치 (.csv 미포함)  ex) ../KETI/label\n",
    "'''"
   ]
  },
  {
   "cell_type": "code",
   "execution_count": 26,
   "metadata": {},
   "outputs": [],
   "source": [
    "LABEL_PATH = '/dataset/KETI_SignLanguage/Annotation'\n",
    "dir_2017 = os.path.join(LABEL_PATH, 'KETI-2017-SL-Annotation-v2_1.xlsx')\n",
    "dir_2018 = os.path.join(LABEL_PATH, 'KETI-2018-SL-Annotation-v1.xlsx')\n",
    "dir_video = '/dataset/KETI_SignLanguage/Video'\n",
    "dir_csv = '/dataset/KETI_SignLanguage/Annotation/label'"
   ]
  },
  {
   "cell_type": "code",
   "execution_count": 27,
   "metadata": {},
   "outputs": [
    {
     "data": {
      "text/plain": [
       "(10480, 33012, 387)"
      ]
     },
     "execution_count": 27,
     "metadata": {},
     "output_type": "execute_result"
    }
   ],
   "source": [
    "df1 = pd.read_excel(dir_2017)\n",
    "df1.drop(columns=\"Unnamed: 7\", inplace=True)\n",
    "df1.dropna(inplace=True)\n",
    "\n",
    "df2_sheet1 = pd.read_excel(dir_2018, sheet_name=\"KETI-2018-수어데이터-학습용-Annotation\")\n",
    "df2_sheet2 = pd.read_excel(dir_2018, sheet_name=\"KETI-2018-수어데이터-응답용-Anotation\")\n",
    "df2_sheet1.drop(columns=\"Unnamed: 5\", inplace=True)\n",
    "df2_sheet1.drop(columns=\"Unnamed: 8\", inplace=True)\n",
    "df2_sheet1.dropna(inplace=True)\n",
    "df2_sheet2.dropna(inplace=True)\n",
    "\n",
    "len(df1), len(df2_sheet1), len(df2_sheet2)"
   ]
  },
  {
   "cell_type": "code",
   "execution_count": 28,
   "metadata": {},
   "outputs": [
    {
     "data": {
      "text/plain": [
       "(False, False, False)"
      ]
     },
     "execution_count": 28,
     "metadata": {},
     "output_type": "execute_result"
    }
   ],
   "source": [
    "df1.isnull().values.any(), df2_sheet1.isnull().values.any(), df2_sheet2.isnull().values.any()"
   ]
  },
  {
   "cell_type": "code",
   "execution_count": 29,
   "metadata": {},
   "outputs": [
    {
     "data": {
      "text/html": [
       "<div>\n",
       "<style scoped>\n",
       "    .dataframe tbody tr th:only-of-type {\n",
       "        vertical-align: middle;\n",
       "    }\n",
       "\n",
       "    .dataframe tbody tr th {\n",
       "        vertical-align: top;\n",
       "    }\n",
       "\n",
       "    .dataframe thead th {\n",
       "        text-align: right;\n",
       "    }\n",
       "</style>\n",
       "<table border=\"1\" class=\"dataframe\">\n",
       "  <thead>\n",
       "    <tr style=\"text-align: right;\">\n",
       "      <th></th>\n",
       "      <th>번호</th>\n",
       "      <th>언어 제공자 ID</th>\n",
       "      <th>취득연도</th>\n",
       "      <th>방향</th>\n",
       "      <th>타입(단어/문장)</th>\n",
       "      <th>파일명</th>\n",
       "      <th>한국어</th>\n",
       "    </tr>\n",
       "  </thead>\n",
       "  <tbody>\n",
       "    <tr>\n",
       "      <th>0</th>\n",
       "      <td>419.0</td>\n",
       "      <td>1</td>\n",
       "      <td>2017.0</td>\n",
       "      <td>정면</td>\n",
       "      <td>단어</td>\n",
       "      <td>KETI_SL_0000000419</td>\n",
       "      <td>화재</td>\n",
       "    </tr>\n",
       "    <tr>\n",
       "      <th>1</th>\n",
       "      <td>838.0</td>\n",
       "      <td>1</td>\n",
       "      <td>2017.0</td>\n",
       "      <td>측면</td>\n",
       "      <td>단어</td>\n",
       "      <td>KETI_SL_0000000838</td>\n",
       "      <td>화재</td>\n",
       "    </tr>\n",
       "    <tr>\n",
       "      <th>2</th>\n",
       "      <td>1255.0</td>\n",
       "      <td>2</td>\n",
       "      <td>2017.0</td>\n",
       "      <td>정면</td>\n",
       "      <td>단어</td>\n",
       "      <td>KETI_SL_0000001255</td>\n",
       "      <td>화재</td>\n",
       "    </tr>\n",
       "    <tr>\n",
       "      <th>3</th>\n",
       "      <td>1674.0</td>\n",
       "      <td>2</td>\n",
       "      <td>2017.0</td>\n",
       "      <td>측면</td>\n",
       "      <td>단어</td>\n",
       "      <td>KETI_SL_0000001674</td>\n",
       "      <td>화재</td>\n",
       "    </tr>\n",
       "    <tr>\n",
       "      <th>4</th>\n",
       "      <td>2032.0</td>\n",
       "      <td>3</td>\n",
       "      <td>2017.0</td>\n",
       "      <td>정면</td>\n",
       "      <td>단어</td>\n",
       "      <td>KETI_SL_0000002032</td>\n",
       "      <td>화재</td>\n",
       "    </tr>\n",
       "    <tr>\n",
       "      <th>...</th>\n",
       "      <td>...</td>\n",
       "      <td>...</td>\n",
       "      <td>...</td>\n",
       "      <td>...</td>\n",
       "      <td>...</td>\n",
       "      <td>...</td>\n",
       "      <td>...</td>\n",
       "    </tr>\n",
       "    <tr>\n",
       "      <th>43874</th>\n",
       "      <td>383.0</td>\n",
       "      <td>1</td>\n",
       "      <td>2018.0</td>\n",
       "      <td>우측면</td>\n",
       "      <td>문장</td>\n",
       "      <td>KETI_SL_RES_0000000383.MOV</td>\n",
       "      <td>금방 119 아저씨들이 올거예요</td>\n",
       "    </tr>\n",
       "    <tr>\n",
       "      <th>43875</th>\n",
       "      <td>384.0</td>\n",
       "      <td>1</td>\n",
       "      <td>2018.0</td>\n",
       "      <td>우측면</td>\n",
       "      <td>문장</td>\n",
       "      <td>KETI_SL_RES_0000000384.MOV</td>\n",
       "      <td>금방 구급대원들이 도착할테니 잠시만 기다리세요</td>\n",
       "    </tr>\n",
       "    <tr>\n",
       "      <th>43876</th>\n",
       "      <td>385.0</td>\n",
       "      <td>1</td>\n",
       "      <td>2018.0</td>\n",
       "      <td>우측면</td>\n",
       "      <td>문장</td>\n",
       "      <td>KETI_SL_RES_0000000385.MOV</td>\n",
       "      <td>지금 사람들이 가고 있어요</td>\n",
       "    </tr>\n",
       "    <tr>\n",
       "      <th>43877</th>\n",
       "      <td>386.0</td>\n",
       "      <td>1</td>\n",
       "      <td>2018.0</td>\n",
       "      <td>우측면</td>\n",
       "      <td>문장</td>\n",
       "      <td>KETI_SL_RES_0000000386.MOV</td>\n",
       "      <td>최대한 빨리 출동하도록 하겠습니다</td>\n",
       "    </tr>\n",
       "    <tr>\n",
       "      <th>43878</th>\n",
       "      <td>387.0</td>\n",
       "      <td>1</td>\n",
       "      <td>2018.0</td>\n",
       "      <td>우측면</td>\n",
       "      <td>문장</td>\n",
       "      <td>KETI_SL_RES_0000000387.MOV</td>\n",
       "      <td>조금만 기다리시면 당신을 도와줄 사람들이 도착할 겁니다</td>\n",
       "    </tr>\n",
       "  </tbody>\n",
       "</table>\n",
       "<p>43879 rows × 7 columns</p>\n",
       "</div>"
      ],
      "text/plain": [
       "           번호 언어 제공자 ID    취득연도   방향 타입(단어/문장)                         파일명  \\\n",
       "0       419.0         1  2017.0   정면        단어          KETI_SL_0000000419   \n",
       "1       838.0         1  2017.0   측면        단어          KETI_SL_0000000838   \n",
       "2      1255.0         2  2017.0   정면        단어          KETI_SL_0000001255   \n",
       "3      1674.0         2  2017.0   측면        단어          KETI_SL_0000001674   \n",
       "4      2032.0         3  2017.0   정면        단어          KETI_SL_0000002032   \n",
       "...       ...       ...     ...  ...       ...                         ...   \n",
       "43874   383.0         1  2018.0  우측면        문장  KETI_SL_RES_0000000383.MOV   \n",
       "43875   384.0         1  2018.0  우측면        문장  KETI_SL_RES_0000000384.MOV   \n",
       "43876   385.0         1  2018.0  우측면        문장  KETI_SL_RES_0000000385.MOV   \n",
       "43877   386.0         1  2018.0  우측면        문장  KETI_SL_RES_0000000386.MOV   \n",
       "43878   387.0         1  2018.0  우측면        문장  KETI_SL_RES_0000000387.MOV   \n",
       "\n",
       "                                  한국어  \n",
       "0                                  화재  \n",
       "1                                  화재  \n",
       "2                                  화재  \n",
       "3                                  화재  \n",
       "4                                  화재  \n",
       "...                               ...  \n",
       "43874               금방 119 아저씨들이 올거예요  \n",
       "43875       금방 구급대원들이 도착할테니 잠시만 기다리세요  \n",
       "43876                  지금 사람들이 가고 있어요  \n",
       "43877              최대한 빨리 출동하도록 하겠습니다  \n",
       "43878  조금만 기다리시면 당신을 도와줄 사람들이 도착할 겁니다  \n",
       "\n",
       "[43879 rows x 7 columns]"
      ]
     },
     "execution_count": 29,
     "metadata": {},
     "output_type": "execute_result"
    }
   ],
   "source": [
    "df1[\"파일명\"] = df1[\"파일명\"].str.split(\".\").str.get(0)\n",
    "df = pd.concat([df1, df2_sheet1, df2_sheet2], ignore_index=True)\n",
    "df"
   ]
  },
  {
   "cell_type": "code",
   "execution_count": 30,
   "metadata": {},
   "outputs": [],
   "source": [
    "files = glob.glob(dir_video + '/**/*', recursive=True)\n",
    "\n",
    "fold = pd.DataFrame(files, columns=['directory'])\n",
    "fold['파일명'] = fold['directory'].str.split(\"/\").str.get(-1)\n",
    "fold = fold[~fold['파일명'].str.contains('~')]\n",
    "fold['파일명'] = fold['파일명'].str.split(\".\").str.get(0)"
   ]
  },
  {
   "cell_type": "code",
   "execution_count": 31,
   "metadata": {},
   "outputs": [
    {
     "data": {
      "text/html": [
       "<div>\n",
       "<style scoped>\n",
       "    .dataframe tbody tr th:only-of-type {\n",
       "        vertical-align: middle;\n",
       "    }\n",
       "\n",
       "    .dataframe tbody tr th {\n",
       "        vertical-align: top;\n",
       "    }\n",
       "\n",
       "    .dataframe thead th {\n",
       "        text-align: right;\n",
       "    }\n",
       "</style>\n",
       "<table border=\"1\" class=\"dataframe\">\n",
       "  <thead>\n",
       "    <tr style=\"text-align: right;\">\n",
       "      <th></th>\n",
       "      <th>directory</th>\n",
       "      <th>파일명</th>\n",
       "    </tr>\n",
       "  </thead>\n",
       "  <tbody>\n",
       "    <tr>\n",
       "      <th>18</th>\n",
       "      <td>/dataset/KETI_SignLanguage/Video/15509~18022/K...</td>\n",
       "      <td>KETI_SL_0000017355</td>\n",
       "    </tr>\n",
       "    <tr>\n",
       "      <th>19</th>\n",
       "      <td>/dataset/KETI_SignLanguage/Video/15509~18022/K...</td>\n",
       "      <td>KETI_SL_0000017238</td>\n",
       "    </tr>\n",
       "    <tr>\n",
       "      <th>20</th>\n",
       "      <td>/dataset/KETI_SignLanguage/Video/15509~18022/K...</td>\n",
       "      <td>KETI_SL_0000015645</td>\n",
       "    </tr>\n",
       "    <tr>\n",
       "      <th>21</th>\n",
       "      <td>/dataset/KETI_SignLanguage/Video/15509~18022/K...</td>\n",
       "      <td>KETI_SL_0000017890</td>\n",
       "    </tr>\n",
       "    <tr>\n",
       "      <th>22</th>\n",
       "      <td>/dataset/KETI_SignLanguage/Video/15509~18022/K...</td>\n",
       "      <td>KETI_SL_0000015996</td>\n",
       "    </tr>\n",
       "    <tr>\n",
       "      <th>...</th>\n",
       "      <td>...</td>\n",
       "      <td>...</td>\n",
       "    </tr>\n",
       "    <tr>\n",
       "      <th>41933</th>\n",
       "      <td>/dataset/KETI_SignLanguage/Video/9601~10480/KE...</td>\n",
       "      <td>KETI_SL_0000010070</td>\n",
       "    </tr>\n",
       "    <tr>\n",
       "      <th>41934</th>\n",
       "      <td>/dataset/KETI_SignLanguage/Video/9601~10480/KE...</td>\n",
       "      <td>KETI_SL_0000009767</td>\n",
       "    </tr>\n",
       "    <tr>\n",
       "      <th>41935</th>\n",
       "      <td>/dataset/KETI_SignLanguage/Video/9601~10480/KE...</td>\n",
       "      <td>KETI_SL_0000010005</td>\n",
       "    </tr>\n",
       "    <tr>\n",
       "      <th>41936</th>\n",
       "      <td>/dataset/KETI_SignLanguage/Video/9601~10480/KE...</td>\n",
       "      <td>KETI_SL_0000010272</td>\n",
       "    </tr>\n",
       "    <tr>\n",
       "      <th>41937</th>\n",
       "      <td>/dataset/KETI_SignLanguage/Video/9601~10480/KE...</td>\n",
       "      <td>KETI_SL_0000010395</td>\n",
       "    </tr>\n",
       "  </tbody>\n",
       "</table>\n",
       "<p>41920 rows × 2 columns</p>\n",
       "</div>"
      ],
      "text/plain": [
       "                                               directory                 파일명\n",
       "18     /dataset/KETI_SignLanguage/Video/15509~18022/K...  KETI_SL_0000017355\n",
       "19     /dataset/KETI_SignLanguage/Video/15509~18022/K...  KETI_SL_0000017238\n",
       "20     /dataset/KETI_SignLanguage/Video/15509~18022/K...  KETI_SL_0000015645\n",
       "21     /dataset/KETI_SignLanguage/Video/15509~18022/K...  KETI_SL_0000017890\n",
       "22     /dataset/KETI_SignLanguage/Video/15509~18022/K...  KETI_SL_0000015996\n",
       "...                                                  ...                 ...\n",
       "41933  /dataset/KETI_SignLanguage/Video/9601~10480/KE...  KETI_SL_0000010070\n",
       "41934  /dataset/KETI_SignLanguage/Video/9601~10480/KE...  KETI_SL_0000009767\n",
       "41935  /dataset/KETI_SignLanguage/Video/9601~10480/KE...  KETI_SL_0000010005\n",
       "41936  /dataset/KETI_SignLanguage/Video/9601~10480/KE...  KETI_SL_0000010272\n",
       "41937  /dataset/KETI_SignLanguage/Video/9601~10480/KE...  KETI_SL_0000010395\n",
       "\n",
       "[41920 rows x 2 columns]"
      ]
     },
     "execution_count": 31,
     "metadata": {},
     "output_type": "execute_result"
    }
   ],
   "source": [
    "fold"
   ]
  },
  {
   "cell_type": "code",
   "execution_count": 32,
   "metadata": {},
   "outputs": [
    {
     "data": {
      "text/plain": [
       "True"
      ]
     },
     "execution_count": 32,
     "metadata": {},
     "output_type": "execute_result"
    }
   ],
   "source": [
    "fdf = pd.merge(df, fold, how='right')\n",
    "fdf.isnull().values.any()"
   ]
  },
  {
   "cell_type": "code",
   "execution_count": 33,
   "metadata": {},
   "outputs": [
    {
     "data": {
      "text/plain": [
       "False"
      ]
     },
     "execution_count": 33,
     "metadata": {},
     "output_type": "execute_result"
    }
   ],
   "source": [
    "fdf.dropna(inplace=True)\n",
    "fdf.isnull().values.any()"
   ]
  },
  {
   "cell_type": "code",
   "execution_count": 34,
   "metadata": {},
   "outputs": [],
   "source": [
    "# fdf = fdf[(fdf['타입(단어/문장)'] == '단어') & (fdf['방향'] == '정면')]\n",
    "fdf = fdf[fdf['타입(단어/문장)'] == '단어']"
   ]
  },
  {
   "cell_type": "code",
   "execution_count": 35,
   "metadata": {},
   "outputs": [
    {
     "data": {
      "text/plain": [
       "419"
      ]
     },
     "execution_count": 35,
     "metadata": {},
     "output_type": "execute_result"
    }
   ],
   "source": [
    "fdf['파일명'] = fdf['파일명'].astype(str)  # 문자열 변환\n",
    "fdf['한국어'] = fdf['한국어'].astype(str)\n",
    "\n",
    "label_name = list(set(fdf['한국어'].to_list()))\n",
    "label_name.sort()\n",
    "len(label_name)"
   ]
  },
  {
   "cell_type": "code",
   "execution_count": 36,
   "metadata": {},
   "outputs": [
    {
     "data": {
      "text/html": [
       "<div>\n",
       "<style scoped>\n",
       "    .dataframe tbody tr th:only-of-type {\n",
       "        vertical-align: middle;\n",
       "    }\n",
       "\n",
       "    .dataframe tbody tr th {\n",
       "        vertical-align: top;\n",
       "    }\n",
       "\n",
       "    .dataframe thead th {\n",
       "        text-align: right;\n",
       "    }\n",
       "</style>\n",
       "<table border=\"1\" class=\"dataframe\">\n",
       "  <thead>\n",
       "    <tr style=\"text-align: right;\">\n",
       "      <th></th>\n",
       "      <th>label</th>\n",
       "      <th>label_index</th>\n",
       "    </tr>\n",
       "  </thead>\n",
       "  <tbody>\n",
       "    <tr>\n",
       "      <th>0</th>\n",
       "      <td>0</td>\n",
       "      <td>0</td>\n",
       "    </tr>\n",
       "    <tr>\n",
       "      <th>1</th>\n",
       "      <td>1</td>\n",
       "      <td>1</td>\n",
       "    </tr>\n",
       "    <tr>\n",
       "      <th>2</th>\n",
       "      <td>10</td>\n",
       "      <td>2</td>\n",
       "    </tr>\n",
       "    <tr>\n",
       "      <th>3</th>\n",
       "      <td>100</td>\n",
       "      <td>3</td>\n",
       "    </tr>\n",
       "    <tr>\n",
       "      <th>4</th>\n",
       "      <td>1000</td>\n",
       "      <td>4</td>\n",
       "    </tr>\n",
       "    <tr>\n",
       "      <th>...</th>\n",
       "      <td>...</td>\n",
       "      <td>...</td>\n",
       "    </tr>\n",
       "    <tr>\n",
       "      <th>414</th>\n",
       "      <td>화상</td>\n",
       "      <td>414</td>\n",
       "    </tr>\n",
       "    <tr>\n",
       "      <th>415</th>\n",
       "      <td>화약</td>\n",
       "      <td>415</td>\n",
       "    </tr>\n",
       "    <tr>\n",
       "      <th>416</th>\n",
       "      <td>화요일</td>\n",
       "      <td>416</td>\n",
       "    </tr>\n",
       "    <tr>\n",
       "      <th>417</th>\n",
       "      <td>화장실</td>\n",
       "      <td>417</td>\n",
       "    </tr>\n",
       "    <tr>\n",
       "      <th>418</th>\n",
       "      <td>화재</td>\n",
       "      <td>418</td>\n",
       "    </tr>\n",
       "  </tbody>\n",
       "</table>\n",
       "<p>419 rows × 2 columns</p>\n",
       "</div>"
      ],
      "text/plain": [
       "    label  label_index\n",
       "0       0            0\n",
       "1       1            1\n",
       "2      10            2\n",
       "3     100            3\n",
       "4    1000            4\n",
       "..    ...          ...\n",
       "414    화상          414\n",
       "415    화약          415\n",
       "416   화요일          416\n",
       "417   화장실          417\n",
       "418    화재          418\n",
       "\n",
       "[419 rows x 2 columns]"
      ]
     },
     "execution_count": 36,
     "metadata": {},
     "output_type": "execute_result"
    }
   ],
   "source": [
    "df_label = pd.DataFrame({'label': label_name})\n",
    "df_label['label_index'] = df_label.index\n",
    "df_label"
   ]
  },
  {
   "cell_type": "code",
   "execution_count": 37,
   "metadata": {},
   "outputs": [
    {
     "data": {
      "text/html": [
       "<div>\n",
       "<style scoped>\n",
       "    .dataframe tbody tr th:only-of-type {\n",
       "        vertical-align: middle;\n",
       "    }\n",
       "\n",
       "    .dataframe tbody tr th {\n",
       "        vertical-align: top;\n",
       "    }\n",
       "\n",
       "    .dataframe thead th {\n",
       "        text-align: right;\n",
       "    }\n",
       "</style>\n",
       "<table border=\"1\" class=\"dataframe\">\n",
       "  <thead>\n",
       "    <tr style=\"text-align: right;\">\n",
       "      <th></th>\n",
       "      <th>번호</th>\n",
       "      <th>언어 제공자 ID</th>\n",
       "      <th>취득연도</th>\n",
       "      <th>방향</th>\n",
       "      <th>타입(단어/문장)</th>\n",
       "      <th>파일명</th>\n",
       "      <th>한국어</th>\n",
       "      <th>directory</th>\n",
       "      <th>label</th>\n",
       "      <th>label_index</th>\n",
       "    </tr>\n",
       "  </thead>\n",
       "  <tbody>\n",
       "    <tr>\n",
       "      <th>0</th>\n",
       "      <td>17355.0</td>\n",
       "      <td>16</td>\n",
       "      <td>2018.0</td>\n",
       "      <td>좌측면</td>\n",
       "      <td>단어</td>\n",
       "      <td>KETI_SL_0000017355</td>\n",
       "      <td>논</td>\n",
       "      <td>/dataset/KETI_SignLanguage/Video/15509~18022/K...</td>\n",
       "      <td>논</td>\n",
       "      <td>167</td>\n",
       "    </tr>\n",
       "    <tr>\n",
       "      <th>1</th>\n",
       "      <td>17238.0</td>\n",
       "      <td>16</td>\n",
       "      <td>2018.0</td>\n",
       "      <td>좌측면</td>\n",
       "      <td>단어</td>\n",
       "      <td>KETI_SL_0000017238</td>\n",
       "      <td>53</td>\n",
       "      <td>/dataset/KETI_SignLanguage/Video/15509~18022/K...</td>\n",
       "      <td>53</td>\n",
       "      <td>54</td>\n",
       "    </tr>\n",
       "    <tr>\n",
       "      <th>2</th>\n",
       "      <td>15645.0</td>\n",
       "      <td>15</td>\n",
       "      <td>2018.0</td>\n",
       "      <td>정면</td>\n",
       "      <td>단어</td>\n",
       "      <td>KETI_SL_0000015645</td>\n",
       "      <td>공사장</td>\n",
       "      <td>/dataset/KETI_SignLanguage/Video/15509~18022/K...</td>\n",
       "      <td>공사장</td>\n",
       "      <td>134</td>\n",
       "    </tr>\n",
       "    <tr>\n",
       "      <th>3</th>\n",
       "      <td>17890.0</td>\n",
       "      <td>16</td>\n",
       "      <td>2018.0</td>\n",
       "      <td>우측면</td>\n",
       "      <td>단어</td>\n",
       "      <td>KETI_SL_0000017890</td>\n",
       "      <td>앞</td>\n",
       "      <td>/dataset/KETI_SignLanguage/Video/15509~18022/K...</td>\n",
       "      <td>앞</td>\n",
       "      <td>282</td>\n",
       "    </tr>\n",
       "    <tr>\n",
       "      <th>4</th>\n",
       "      <td>15996.0</td>\n",
       "      <td>15</td>\n",
       "      <td>2018.0</td>\n",
       "      <td>좌측면</td>\n",
       "      <td>단어</td>\n",
       "      <td>KETI_SL_0000015996</td>\n",
       "      <td>68</td>\n",
       "      <td>/dataset/KETI_SignLanguage/Video/15509~18022/K...</td>\n",
       "      <td>68</td>\n",
       "      <td>70</td>\n",
       "    </tr>\n",
       "    <tr>\n",
       "      <th>...</th>\n",
       "      <td>...</td>\n",
       "      <td>...</td>\n",
       "      <td>...</td>\n",
       "      <td>...</td>\n",
       "      <td>...</td>\n",
       "      <td>...</td>\n",
       "      <td>...</td>\n",
       "      <td>...</td>\n",
       "      <td>...</td>\n",
       "      <td>...</td>\n",
       "    </tr>\n",
       "    <tr>\n",
       "      <th>33512</th>\n",
       "      <td>32198.0</td>\n",
       "      <td>28</td>\n",
       "      <td>2018.0</td>\n",
       "      <td>정면</td>\n",
       "      <td>단어</td>\n",
       "      <td>KETI_SL_0000032198</td>\n",
       "      <td>자동차</td>\n",
       "      <td>/dataset/KETI_SignLanguage/Video/30593~33106/K...</td>\n",
       "      <td>자동차</td>\n",
       "      <td>346</td>\n",
       "    </tr>\n",
       "    <tr>\n",
       "      <th>33513</th>\n",
       "      <td>31654.0</td>\n",
       "      <td>27</td>\n",
       "      <td>2018.0</td>\n",
       "      <td>우측면</td>\n",
       "      <td>단어</td>\n",
       "      <td>KETI_SL_0000031654</td>\n",
       "      <td>밭</td>\n",
       "      <td>/dataset/KETI_SignLanguage/Video/30593~33106/K...</td>\n",
       "      <td>밭</td>\n",
       "      <td>217</td>\n",
       "    </tr>\n",
       "    <tr>\n",
       "      <th>33514</th>\n",
       "      <td>32424.0</td>\n",
       "      <td>28</td>\n",
       "      <td>2018.0</td>\n",
       "      <td>좌측면</td>\n",
       "      <td>단어</td>\n",
       "      <td>KETI_SL_0000032424</td>\n",
       "      <td>기절하다</td>\n",
       "      <td>/dataset/KETI_SignLanguage/Video/30593~33106/K...</td>\n",
       "      <td>기절하다</td>\n",
       "      <td>152</td>\n",
       "    </tr>\n",
       "    <tr>\n",
       "      <th>33515</th>\n",
       "      <td>31437.0</td>\n",
       "      <td>27</td>\n",
       "      <td>2018.0</td>\n",
       "      <td>우측면</td>\n",
       "      <td>단어</td>\n",
       "      <td>KETI_SL_0000031437</td>\n",
       "      <td>6</td>\n",
       "      <td>/dataset/KETI_SignLanguage/Video/30593~33106/K...</td>\n",
       "      <td>6</td>\n",
       "      <td>61</td>\n",
       "    </tr>\n",
       "    <tr>\n",
       "      <th>33516</th>\n",
       "      <td>31071.0</td>\n",
       "      <td>27</td>\n",
       "      <td>2018.0</td>\n",
       "      <td>좌측면</td>\n",
       "      <td>단어</td>\n",
       "      <td>KETI_SL_0000031071</td>\n",
       "      <td>59</td>\n",
       "      <td>/dataset/KETI_SignLanguage/Video/30593~33106/K...</td>\n",
       "      <td>59</td>\n",
       "      <td>60</td>\n",
       "    </tr>\n",
       "  </tbody>\n",
       "</table>\n",
       "<p>33517 rows × 10 columns</p>\n",
       "</div>"
      ],
      "text/plain": [
       "            번호 언어 제공자 ID    취득연도   방향 타입(단어/문장)                 파일명   한국어  \\\n",
       "0      17355.0        16  2018.0  좌측면        단어  KETI_SL_0000017355     논   \n",
       "1      17238.0        16  2018.0  좌측면        단어  KETI_SL_0000017238    53   \n",
       "2      15645.0        15  2018.0   정면        단어  KETI_SL_0000015645   공사장   \n",
       "3      17890.0        16  2018.0  우측면        단어  KETI_SL_0000017890     앞   \n",
       "4      15996.0        15  2018.0  좌측면        단어  KETI_SL_0000015996    68   \n",
       "...        ...       ...     ...  ...       ...                 ...   ...   \n",
       "33512  32198.0        28  2018.0   정면        단어  KETI_SL_0000032198   자동차   \n",
       "33513  31654.0        27  2018.0  우측면        단어  KETI_SL_0000031654     밭   \n",
       "33514  32424.0        28  2018.0  좌측면        단어  KETI_SL_0000032424  기절하다   \n",
       "33515  31437.0        27  2018.0  우측면        단어  KETI_SL_0000031437     6   \n",
       "33516  31071.0        27  2018.0  좌측면        단어  KETI_SL_0000031071    59   \n",
       "\n",
       "                                               directory label  label_index  \n",
       "0      /dataset/KETI_SignLanguage/Video/15509~18022/K...     논          167  \n",
       "1      /dataset/KETI_SignLanguage/Video/15509~18022/K...    53           54  \n",
       "2      /dataset/KETI_SignLanguage/Video/15509~18022/K...   공사장          134  \n",
       "3      /dataset/KETI_SignLanguage/Video/15509~18022/K...     앞          282  \n",
       "4      /dataset/KETI_SignLanguage/Video/15509~18022/K...    68           70  \n",
       "...                                                  ...   ...          ...  \n",
       "33512  /dataset/KETI_SignLanguage/Video/30593~33106/K...   자동차          346  \n",
       "33513  /dataset/KETI_SignLanguage/Video/30593~33106/K...     밭          217  \n",
       "33514  /dataset/KETI_SignLanguage/Video/30593~33106/K...  기절하다          152  \n",
       "33515  /dataset/KETI_SignLanguage/Video/30593~33106/K...     6           61  \n",
       "33516  /dataset/KETI_SignLanguage/Video/30593~33106/K...    59           60  \n",
       "\n",
       "[33517 rows x 10 columns]"
      ]
     },
     "execution_count": 37,
     "metadata": {},
     "output_type": "execute_result"
    }
   ],
   "source": [
    "fdf = pd.merge(fdf, df_label, how='left', left_on='한국어', right_on='label')\n",
    "fdf"
   ]
  },
  {
   "cell_type": "code",
   "execution_count": 38,
   "metadata": {},
   "outputs": [
    {
     "data": {
      "text/plain": [
       "30"
      ]
     },
     "execution_count": 38,
     "metadata": {},
     "output_type": "execute_result"
    }
   ],
   "source": [
    "signer_ids = np.unique(fdf['언어 제공자 ID'])\n",
    "len(signer_ids)"
   ]
  },
  {
   "cell_type": "code",
   "execution_count": 39,
   "metadata": {},
   "outputs": [
    {
     "data": {
      "text/plain": [
       "array([1, 2, 3, 4, 5, 6, 7, 8, 9, 10, 11, 12, 13, 14, 15, 16, 17, 18, 19,\n",
       "       20, 21, 22, 23, 24, 25, 26, 27, 28, 29, 30], dtype=object)"
      ]
     },
     "execution_count": 39,
     "metadata": {},
     "output_type": "execute_result"
    }
   ],
   "source": [
    "signer_ids"
   ]
  },
  {
   "cell_type": "code",
   "execution_count": 40,
   "metadata": {},
   "outputs": [
    {
     "name": "stdout",
     "output_type": "stream",
     "text": [
      "[838, 838, 838, 838, 838, 838, 838, 838, 838, 838, 1257, 1257, 1256, 1257, 1257, 1257, 1257, 1255, 1257, 1257, 1257, 1257, 1257, 1257, 1257, 1257, 1257, 1257, 1257, 1257]\n"
     ]
    }
   ],
   "source": [
    "num_data_per_signer = [len(fdf[fdf['언어 제공자 ID']==i]) for i in range(1, 31)]\n",
    "print(num_data_per_signer)"
   ]
  },
  {
   "cell_type": "code",
   "execution_count": 41,
   "metadata": {},
   "outputs": [
    {
     "data": {
      "text/plain": [
       "12570"
      ]
     },
     "execution_count": 41,
     "metadata": {},
     "output_type": "execute_result"
    }
   ],
   "source": [
    "419 * 30"
   ]
  },
  {
   "cell_type": "code",
   "execution_count": null,
   "metadata": {},
   "outputs": [],
   "source": [
    "# for i in range(1, 31):\n",
    "#     df_signer = fdf[fdf['언어 제공자 ID']==i]\n",
    "#     print(np.unique(df_signer['label_index'], return_counts=True))\n",
    "#     print(len(np.unique(df_signer['label_index'])))"
   ]
  },
  {
   "cell_type": "code",
   "execution_count": 42,
   "metadata": {},
   "outputs": [
    {
     "data": {
      "text/plain": [
       "(25137, 8380)"
      ]
     },
     "execution_count": 42,
     "metadata": {},
     "output_type": "execute_result"
    }
   ],
   "source": [
    "fdf_train = fdf.loc[fdf['언어 제공자 ID'] > 10, ['파일명', 'label_index']]\n",
    "fdf_val = fdf.loc[fdf['언어 제공자 ID'] <= 10, ['파일명', 'label_index']]\n",
    "len(fdf_train), len(fdf_val)"
   ]
  },
  {
   "cell_type": "code",
   "execution_count": 43,
   "metadata": {},
   "outputs": [],
   "source": [
    "fdf_train.to_csv(os.path.join(dir_csv, 'label_KETI_train_all.csv'), mode='w', index=None, header=False)\n",
    "fdf_val.to_csv(os.path.join(dir_csv, 'label_KETI_val_all.csv'), mode='w', index=None, header=False)"
   ]
  },
  {
   "cell_type": "code",
   "execution_count": null,
   "metadata": {},
   "outputs": [],
   "source": []
  }
 ],
 "metadata": {
  "kernelspec": {
   "display_name": "Python 3 (ipykernel)",
   "language": "python",
   "name": "python3"
  },
  "language_info": {
   "codemirror_mode": {
    "name": "ipython",
    "version": 3
   },
   "file_extension": ".py",
   "mimetype": "text/x-python",
   "name": "python",
   "nbconvert_exporter": "python",
   "pygments_lexer": "ipython3",
   "version": "3.10.4"
  },
  "orig_nbformat": 4,
  "vscode": {
   "interpreter": {
    "hash": "d1a104cc5a30ffb61dcba35c048d59e2a2543d3b82917e7c4c5fa986c3cfbc1d"
   }
  }
 },
 "nbformat": 4,
 "nbformat_minor": 2
}
