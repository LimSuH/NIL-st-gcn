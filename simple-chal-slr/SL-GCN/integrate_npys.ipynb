{
 "cells": [
  {
   "cell_type": "code",
   "execution_count": 1,
   "metadata": {},
   "outputs": [],
   "source": [
    "'''\n",
    "Integrate all or selected npy files of estimated whole-body 133 keypoints\n",
    "Reduce number of keypoints from 133 to a selected number (\"graph reduction\")\n",
    "'''\n",
    "\n",
    "import os\n",
    "import sys\n",
    "import argparse\n",
    "import pickle\n",
    "import numpy as np\n",
    "from tqdm import tqdm\n",
    "from natsort import natsorted\n",
    "\n",
    "\n",
    "selected_joints = {\n",
    "    '27': np.concatenate(([0,5,6,7,8,9,10], # body\n",
    "                          [91,95,96,99,100,103,104,107,108,111], # left hand?\n",
    "                          [112,116,117,120,121,124,125,128,129,132]), # right hand?\n",
    "                           axis=0)}\n",
    "\n",
    "max_body_true = 1 # doing what?\n",
    "max_frame = 150\n",
    "num_channels = 3 # what channels?"
   ]
  },
  {
   "cell_type": "code",
   "execution_count": 2,
   "metadata": {},
   "outputs": [],
   "source": [
    "data_path = '/hdd1/dataset/KETI_SignLanguage/Keypoints'\n",
    "# data_path = '/hdd1/dataset/AUTSL/train_npy'\n",
    "label_path = '../preprocess_label'\n",
    "# label_path = '/hdd1/dataset/AUTSL'\n",
    "out_path = '/hdd1/dataset/KETI_SignLanguage/SLGCN-Data'\n",
    "part = 'val'\n",
    "config = '27'"
   ]
  },
  {
   "cell_type": "code",
   "execution_count": 3,
   "metadata": {},
   "outputs": [],
   "source": [
    "# label info\n",
    "labels = []\n",
    "sample_names = []\n",
    "selected = selected_joints[config]\n",
    "num_joints = len(selected)\n",
    "\n",
    "label_file_name = f'label_KETI_{part}_all.csv'\n",
    "label_file = open(os.path.join(label_path, label_file_name), 'r', encoding='utf-8')\n",
    "\n",
    "for line in label_file.readlines():\n",
    "    line = line.strip()\n",
    "    line = line.split(',')\n",
    "\n",
    "    sample_names.append(line[0])\n",
    "    labels.append(int(line[1]))\n",
    "\n",
    "label_file.close()"
   ]
  },
  {
   "cell_type": "code",
   "execution_count": 4,
   "metadata": {},
   "outputs": [
    {
     "data": {
      "text/plain": [
       "(['KETI_SL_0000000354',\n",
       "  'KETI_SL_0000000112',\n",
       "  'KETI_SL_0000001061',\n",
       "  'KETI_SL_0000001169',\n",
       "  'KETI_SL_0000001595',\n",
       "  'KETI_SL_0000001311',\n",
       "  'KETI_SL_0000002109',\n",
       "  'KETI_SL_0000001490',\n",
       "  'KETI_SL_0000000292',\n",
       "  'KETI_SL_0000001656'],\n",
       " [351, 111, 224, 331, 338, 54, 109, 234, 287, 400])"
      ]
     },
     "execution_count": 4,
     "metadata": {},
     "output_type": "execute_result"
    }
   ],
   "source": [
    "sample_names[:10], labels[:10]"
   ]
  },
  {
   "cell_type": "code",
   "execution_count": 5,
   "metadata": {},
   "outputs": [],
   "source": [
    "fp = np.zeros((len(labels), max_frame, num_joints, num_channels, max_body_true), \n",
    "              dtype=np.float32)\n",
    "\n",
    "frames = []"
   ]
  },
  {
   "cell_type": "code",
   "execution_count": 6,
   "metadata": {},
   "outputs": [
    {
     "name": "stdout",
     "output_type": "stream",
     "text": [
      "41920\n"
     ]
    }
   ],
   "source": [
    "npy_list = natsorted(os.listdir(data_path))\n",
    "print(len(npy_list))"
   ]
  },
  {
   "cell_type": "code",
   "execution_count": 7,
   "metadata": {},
   "outputs": [
    {
     "name": "stderr",
     "output_type": "stream",
     "text": [
      "41920it [00:00, 3212123.64it/s]"
     ]
    },
    {
     "name": "stdout",
     "output_type": "stream",
     "text": [
      "/hdd1/dataset/KETI_SignLanguage/Keypoints/KETI_SL_0000000001.avi.npy\n",
      "KETI_SL_0000043081\n"
     ]
    },
    {
     "name": "stderr",
     "output_type": "stream",
     "text": [
      "\n"
     ]
    }
   ],
   "source": [
    "for i, npy_file in tqdm(enumerate(npy_list)):\n",
    "    if i == 0:\n",
    "        print(os.path.join(data_path, npy_file))\n",
    "    if i == len(npy_list) - 100:\n",
    "        print(npy_file.split('.')[0])"
   ]
  },
  {
   "cell_type": "code",
   "execution_count": 8,
   "metadata": {},
   "outputs": [
    {
     "data": {
      "text/plain": [
       "['KETI_SL_0000000001.avi.npy',\n",
       " 'KETI_SL_0000000002.avi.npy',\n",
       " 'KETI_SL_0000000003.avi.npy',\n",
       " 'KETI_SL_0000000004.avi.npy',\n",
       " 'KETI_SL_0000000005.avi.npy',\n",
       " 'KETI_SL_0000000006.avi.npy',\n",
       " 'KETI_SL_0000000007.avi.npy',\n",
       " 'KETI_SL_0000000008.avi.npy',\n",
       " 'KETI_SL_0000000009.avi.npy',\n",
       " 'KETI_SL_0000000010.avi.npy']"
      ]
     },
     "execution_count": 8,
     "metadata": {},
     "output_type": "execute_result"
    }
   ],
   "source": [
    "npy_list[:10]"
   ]
  },
  {
   "cell_type": "code",
   "execution_count": 9,
   "metadata": {},
   "outputs": [
    {
     "data": {
      "text/plain": [
       "['KETI_SL_0000020960.mp4.npy']"
      ]
     },
     "execution_count": 9,
     "metadata": {},
     "output_type": "execute_result"
    }
   ],
   "source": [
    "def partial(lst, query):\n",
    "    return [s for s in lst if query in s]\n",
    "\n",
    "query = 'KETI_SL_0000020960'\n",
    "\n",
    "partial(npy_list, query)"
   ]
  },
  {
   "cell_type": "code",
   "execution_count": 10,
   "metadata": {},
   "outputs": [
    {
     "name": "stderr",
     "output_type": "stream",
     "text": [
      "8380it [01:16, 109.85it/s]"
     ]
    },
    {
     "name": "stdout",
     "output_type": "stream",
     "text": [
      "8380\n"
     ]
    },
    {
     "name": "stderr",
     "output_type": "stream",
     "text": [
      "\n"
     ]
    }
   ],
   "source": [
    "file_counter = 0\n",
    "for i, sample_name in tqdm(enumerate(sample_names)):\n",
    "\n",
    "    # file_name = npy_file.split('.')[0][:-6]\n",
    "    npy_file = partial(npy_list, sample_name)[0]\n",
    "\n",
    "    # if file_name not in sample_names:\n",
    "        # continue\n",
    "    \n",
    "    skel = np.load(os.path.join(data_path, npy_file))\n",
    "    skel = skel[:, selected, :] # frame, joints, channels\n",
    "    L = skel.shape[0]\n",
    "    frames.append(L)\n",
    "\n",
    "    # if shorter frame, then pad the rest from the beginning\n",
    "    if skel.shape[0] < max_frame: \n",
    "        fp[file_counter, :L, :, :, 0] = skel\n",
    "        \n",
    "        rest = max_frame - L\n",
    "        num = int(np.ceil(rest / L))\n",
    "        pad = np.concatenate([skel for _ in range(num)], 0)[:rest]\n",
    "        fp[file_counter, L:, :, :, 0] = pad\n",
    "\n",
    "    else: # or if longer, cut the rest\n",
    "        fp[file_counter, :, :, :, 0] = skel[:max_frame, :, :]\n",
    "\n",
    "    file_counter += 1\n",
    "\n",
    "print(file_counter)"
   ]
  },
  {
   "cell_type": "code",
   "execution_count": 11,
   "metadata": {},
   "outputs": [
    {
     "data": {
      "text/plain": [
       "(8380, 150, 27, 3, 1)"
      ]
     },
     "execution_count": 11,
     "metadata": {},
     "output_type": "execute_result"
    }
   ],
   "source": [
    "fp.shape"
   ]
  },
  {
   "cell_type": "code",
   "execution_count": 12,
   "metadata": {},
   "outputs": [
    {
     "data": {
      "text/plain": [
       "'val_label_all.pkl'"
      ]
     },
     "execution_count": 12,
     "metadata": {},
     "output_type": "execute_result"
    }
   ],
   "source": [
    "pkl_file_name = f'{part}_label_all.pkl'\n",
    "pkl_file_name"
   ]
  },
  {
   "cell_type": "code",
   "execution_count": 13,
   "metadata": {},
   "outputs": [],
   "source": [
    "with open(os.path.join(out_path, pkl_file_name), 'wb') as f:\n",
    "    pickle.dump((sample_names, labels), f)"
   ]
  },
  {
   "cell_type": "code",
   "execution_count": 14,
   "metadata": {},
   "outputs": [
    {
     "name": "stdout",
     "output_type": "stream",
     "text": [
      "(8380, 3, 150, 27, 1)\n"
     ]
    }
   ],
   "source": [
    "fp = np.transpose(fp, [0, 3, 1, 2, 4])\n",
    "print(fp.shape)"
   ]
  },
  {
   "cell_type": "code",
   "execution_count": 15,
   "metadata": {},
   "outputs": [
    {
     "data": {
      "text/plain": [
       "'val_data_joint_all.npy'"
      ]
     },
     "execution_count": 15,
     "metadata": {},
     "output_type": "execute_result"
    }
   ],
   "source": [
    "npy_file_name = f'{part}_data_joint_all.npy'\n",
    "npy_file_name"
   ]
  },
  {
   "cell_type": "code",
   "execution_count": 16,
   "metadata": {},
   "outputs": [],
   "source": [
    "np.save(os.path.join(out_path, npy_file_name), fp)"
   ]
  },
  {
   "cell_type": "code",
   "execution_count": null,
   "metadata": {},
   "outputs": [],
   "source": []
  }
 ],
 "metadata": {
  "kernelspec": {
   "display_name": "Python 3.10.4 ('pytorch')",
   "language": "python",
   "name": "python3"
  },
  "language_info": {
   "codemirror_mode": {
    "name": "ipython",
    "version": 3
   },
   "file_extension": ".py",
   "mimetype": "text/x-python",
   "name": "python",
   "nbconvert_exporter": "python",
   "pygments_lexer": "ipython3",
   "version": "3.9.11"
  },
  "orig_nbformat": 4,
  "vscode": {
   "interpreter": {
    "hash": "d1a104cc5a30ffb61dcba35c048d59e2a2543d3b82917e7c4c5fa986c3cfbc1d"
   }
  }
 },
 "nbformat": 4,
 "nbformat_minor": 2
}
