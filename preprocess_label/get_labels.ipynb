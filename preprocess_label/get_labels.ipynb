{
 "cells": [
  {
   "cell_type": "code",
   "execution_count": 1,
   "metadata": {},
   "outputs": [],
   "source": [
    "import os\n",
    "import glob\n",
    "import numpy as np\n",
    "import pandas as pd\n",
    "import matplotlib.pyplot as plt"
   ]
  },
  {
   "cell_type": "code",
   "execution_count": null,
   "metadata": {},
   "outputs": [],
   "source": [
    "'''\n",
    "dir_2017: KETI-2017-SL-Annotation-v2_1.xlsx 파일 위치\n",
    "dir_2018: KETI-2018-SL-Annotation-v1.xlsx 파일 위치\n",
    "dir_video: video 폴더들이 있는 위치 (Video/0001~3000(영상)처럼 Video 내의 영상 하위폴더) ex) ../Video  \n",
    "dir_csv: 저장하고자 하는 csv 파일 위치 (.csv 미포함)  ex) ../KETI/label\n",
    "'''"
   ]
  },
  {
   "cell_type": "code",
   "execution_count": 2,
   "metadata": {},
   "outputs": [],
   "source": [
    "LABEL_PATH = '/hdd1/dataset/KETI_SignLanguage/Annotation'\n",
    "dir_2017 = os.path.join(LABEL_PATH, 'KETI-2017-SL-Annotation-v2_1.xlsx')\n",
    "dir_2018 = os.path.join(LABEL_PATH, 'KETI-2018-SL-Annotation-v1.xlsx')\n",
    "dir_video = '/hdd1/dataset/KETI_SignLanguage/Video'\n",
    "dir_csv = './'"
   ]
  },
  {
   "cell_type": "code",
   "execution_count": 3,
   "metadata": {},
   "outputs": [
    {
     "data": {
      "text/plain": [
       "(10480, 33012, 387)"
      ]
     },
     "execution_count": 3,
     "metadata": {},
     "output_type": "execute_result"
    }
   ],
   "source": [
    "df1 = pd.read_excel(dir_2017)\n",
    "df1.drop(columns=\"Unnamed: 7\", inplace=True)\n",
    "df1.dropna(inplace=True)\n",
    "\n",
    "df2_sheet1 = pd.read_excel(dir_2018, sheet_name=\"KETI-2018-수어데이터-학습용-Annotation\")\n",
    "df2_sheet2 = pd.read_excel(dir_2018, sheet_name=\"KETI-2018-수어데이터-응답용-Anotation\")\n",
    "df2_sheet1.drop(columns=\"Unnamed: 5\", inplace=True)\n",
    "df2_sheet1.drop(columns=\"Unnamed: 8\", inplace=True)\n",
    "df2_sheet1.dropna(inplace=True)\n",
    "df2_sheet2.dropna(inplace=True)\n",
    "\n",
    "len(df1), len(df2_sheet1), len(df2_sheet2)"
   ]
  },
  {
   "cell_type": "code",
   "execution_count": 4,
   "metadata": {},
   "outputs": [
    {
     "data": {
      "text/plain": [
       "(False, False, False)"
      ]
     },
     "execution_count": 4,
     "metadata": {},
     "output_type": "execute_result"
    }
   ],
   "source": [
    "df1.isnull().values.any(), df2_sheet1.isnull().values.any(), df2_sheet2.isnull().values.any()"
   ]
  },
  {
   "cell_type": "code",
   "execution_count": 5,
   "metadata": {},
   "outputs": [
    {
     "data": {
      "text/html": [
       "<div>\n",
       "<style scoped>\n",
       "    .dataframe tbody tr th:only-of-type {\n",
       "        vertical-align: middle;\n",
       "    }\n",
       "\n",
       "    .dataframe tbody tr th {\n",
       "        vertical-align: top;\n",
       "    }\n",
       "\n",
       "    .dataframe thead th {\n",
       "        text-align: right;\n",
       "    }\n",
       "</style>\n",
       "<table border=\"1\" class=\"dataframe\">\n",
       "  <thead>\n",
       "    <tr style=\"text-align: right;\">\n",
       "      <th></th>\n",
       "      <th>번호</th>\n",
       "      <th>언어 제공자 ID</th>\n",
       "      <th>취득연도</th>\n",
       "      <th>방향</th>\n",
       "      <th>타입(단어/문장)</th>\n",
       "      <th>파일명</th>\n",
       "      <th>한국어</th>\n",
       "    </tr>\n",
       "  </thead>\n",
       "  <tbody>\n",
       "    <tr>\n",
       "      <th>0</th>\n",
       "      <td>419.0</td>\n",
       "      <td>1</td>\n",
       "      <td>2017.0</td>\n",
       "      <td>정면</td>\n",
       "      <td>단어</td>\n",
       "      <td>KETI_SL_0000000419</td>\n",
       "      <td>화재</td>\n",
       "    </tr>\n",
       "    <tr>\n",
       "      <th>1</th>\n",
       "      <td>838.0</td>\n",
       "      <td>1</td>\n",
       "      <td>2017.0</td>\n",
       "      <td>측면</td>\n",
       "      <td>단어</td>\n",
       "      <td>KETI_SL_0000000838</td>\n",
       "      <td>화재</td>\n",
       "    </tr>\n",
       "    <tr>\n",
       "      <th>2</th>\n",
       "      <td>1255.0</td>\n",
       "      <td>2</td>\n",
       "      <td>2017.0</td>\n",
       "      <td>정면</td>\n",
       "      <td>단어</td>\n",
       "      <td>KETI_SL_0000001255</td>\n",
       "      <td>화재</td>\n",
       "    </tr>\n",
       "    <tr>\n",
       "      <th>3</th>\n",
       "      <td>1674.0</td>\n",
       "      <td>2</td>\n",
       "      <td>2017.0</td>\n",
       "      <td>측면</td>\n",
       "      <td>단어</td>\n",
       "      <td>KETI_SL_0000001674</td>\n",
       "      <td>화재</td>\n",
       "    </tr>\n",
       "    <tr>\n",
       "      <th>4</th>\n",
       "      <td>2032.0</td>\n",
       "      <td>3</td>\n",
       "      <td>2017.0</td>\n",
       "      <td>정면</td>\n",
       "      <td>단어</td>\n",
       "      <td>KETI_SL_0000002032</td>\n",
       "      <td>화재</td>\n",
       "    </tr>\n",
       "    <tr>\n",
       "      <th>...</th>\n",
       "      <td>...</td>\n",
       "      <td>...</td>\n",
       "      <td>...</td>\n",
       "      <td>...</td>\n",
       "      <td>...</td>\n",
       "      <td>...</td>\n",
       "      <td>...</td>\n",
       "    </tr>\n",
       "    <tr>\n",
       "      <th>43874</th>\n",
       "      <td>383.0</td>\n",
       "      <td>1</td>\n",
       "      <td>2018.0</td>\n",
       "      <td>우측면</td>\n",
       "      <td>문장</td>\n",
       "      <td>KETI_SL_RES_0000000383.MOV</td>\n",
       "      <td>금방 119 아저씨들이 올거예요</td>\n",
       "    </tr>\n",
       "    <tr>\n",
       "      <th>43875</th>\n",
       "      <td>384.0</td>\n",
       "      <td>1</td>\n",
       "      <td>2018.0</td>\n",
       "      <td>우측면</td>\n",
       "      <td>문장</td>\n",
       "      <td>KETI_SL_RES_0000000384.MOV</td>\n",
       "      <td>금방 구급대원들이 도착할테니 잠시만 기다리세요</td>\n",
       "    </tr>\n",
       "    <tr>\n",
       "      <th>43876</th>\n",
       "      <td>385.0</td>\n",
       "      <td>1</td>\n",
       "      <td>2018.0</td>\n",
       "      <td>우측면</td>\n",
       "      <td>문장</td>\n",
       "      <td>KETI_SL_RES_0000000385.MOV</td>\n",
       "      <td>지금 사람들이 가고 있어요</td>\n",
       "    </tr>\n",
       "    <tr>\n",
       "      <th>43877</th>\n",
       "      <td>386.0</td>\n",
       "      <td>1</td>\n",
       "      <td>2018.0</td>\n",
       "      <td>우측면</td>\n",
       "      <td>문장</td>\n",
       "      <td>KETI_SL_RES_0000000386.MOV</td>\n",
       "      <td>최대한 빨리 출동하도록 하겠습니다</td>\n",
       "    </tr>\n",
       "    <tr>\n",
       "      <th>43878</th>\n",
       "      <td>387.0</td>\n",
       "      <td>1</td>\n",
       "      <td>2018.0</td>\n",
       "      <td>우측면</td>\n",
       "      <td>문장</td>\n",
       "      <td>KETI_SL_RES_0000000387.MOV</td>\n",
       "      <td>조금만 기다리시면 당신을 도와줄 사람들이 도착할 겁니다</td>\n",
       "    </tr>\n",
       "  </tbody>\n",
       "</table>\n",
       "<p>43879 rows × 7 columns</p>\n",
       "</div>"
      ],
      "text/plain": [
       "           번호 언어 제공자 ID    취득연도   방향 타입(단어/문장)                         파일명  \\\n",
       "0       419.0         1  2017.0   정면        단어          KETI_SL_0000000419   \n",
       "1       838.0         1  2017.0   측면        단어          KETI_SL_0000000838   \n",
       "2      1255.0         2  2017.0   정면        단어          KETI_SL_0000001255   \n",
       "3      1674.0         2  2017.0   측면        단어          KETI_SL_0000001674   \n",
       "4      2032.0         3  2017.0   정면        단어          KETI_SL_0000002032   \n",
       "...       ...       ...     ...  ...       ...                         ...   \n",
       "43874   383.0         1  2018.0  우측면        문장  KETI_SL_RES_0000000383.MOV   \n",
       "43875   384.0         1  2018.0  우측면        문장  KETI_SL_RES_0000000384.MOV   \n",
       "43876   385.0         1  2018.0  우측면        문장  KETI_SL_RES_0000000385.MOV   \n",
       "43877   386.0         1  2018.0  우측면        문장  KETI_SL_RES_0000000386.MOV   \n",
       "43878   387.0         1  2018.0  우측면        문장  KETI_SL_RES_0000000387.MOV   \n",
       "\n",
       "                                  한국어  \n",
       "0                                  화재  \n",
       "1                                  화재  \n",
       "2                                  화재  \n",
       "3                                  화재  \n",
       "4                                  화재  \n",
       "...                               ...  \n",
       "43874               금방 119 아저씨들이 올거예요  \n",
       "43875       금방 구급대원들이 도착할테니 잠시만 기다리세요  \n",
       "43876                  지금 사람들이 가고 있어요  \n",
       "43877              최대한 빨리 출동하도록 하겠습니다  \n",
       "43878  조금만 기다리시면 당신을 도와줄 사람들이 도착할 겁니다  \n",
       "\n",
       "[43879 rows x 7 columns]"
      ]
     },
     "execution_count": 5,
     "metadata": {},
     "output_type": "execute_result"
    }
   ],
   "source": [
    "df1[\"파일명\"] = df1[\"파일명\"].str.split(\".\").str.get(0)\n",
    "df = pd.concat([df1, df2_sheet1, df2_sheet2], ignore_index=True)\n",
    "df"
   ]
  },
  {
   "cell_type": "code",
   "execution_count": 6,
   "metadata": {},
   "outputs": [],
   "source": [
    "files = glob.glob(dir_video + '/**/*', recursive=True)\n",
    "\n",
    "fold = pd.DataFrame(files, columns=['directory'])\n",
    "fold['파일명'] = fold['directory'].str.split(\"/\").str.get(-1)\n",
    "fold = fold[~fold['파일명'].str.contains('~')]\n",
    "fold['파일명'] = fold['파일명'].str.split(\".\").str.get(0)"
   ]
  },
  {
   "cell_type": "code",
   "execution_count": 7,
   "metadata": {},
   "outputs": [
    {
     "data": {
      "text/html": [
       "<div>\n",
       "<style scoped>\n",
       "    .dataframe tbody tr th:only-of-type {\n",
       "        vertical-align: middle;\n",
       "    }\n",
       "\n",
       "    .dataframe tbody tr th {\n",
       "        vertical-align: top;\n",
       "    }\n",
       "\n",
       "    .dataframe thead th {\n",
       "        text-align: right;\n",
       "    }\n",
       "</style>\n",
       "<table border=\"1\" class=\"dataframe\">\n",
       "  <thead>\n",
       "    <tr style=\"text-align: right;\">\n",
       "      <th></th>\n",
       "      <th>directory</th>\n",
       "      <th>파일명</th>\n",
       "    </tr>\n",
       "  </thead>\n",
       "  <tbody>\n",
       "    <tr>\n",
       "      <th>18</th>\n",
       "      <td>/hdd1/dataset/KETI_SignLanguage/Video/25565~28...</td>\n",
       "      <td>KETI_SL_0000026889</td>\n",
       "    </tr>\n",
       "    <tr>\n",
       "      <th>19</th>\n",
       "      <td>/hdd1/dataset/KETI_SignLanguage/Video/25565~28...</td>\n",
       "      <td>KETI_SL_0000027989</td>\n",
       "    </tr>\n",
       "    <tr>\n",
       "      <th>20</th>\n",
       "      <td>/hdd1/dataset/KETI_SignLanguage/Video/25565~28...</td>\n",
       "      <td>KETI_SL_0000027833</td>\n",
       "    </tr>\n",
       "    <tr>\n",
       "      <th>21</th>\n",
       "      <td>/hdd1/dataset/KETI_SignLanguage/Video/25565~28...</td>\n",
       "      <td>KETI_SL_0000027271</td>\n",
       "    </tr>\n",
       "    <tr>\n",
       "      <th>22</th>\n",
       "      <td>/hdd1/dataset/KETI_SignLanguage/Video/25565~28...</td>\n",
       "      <td>KETI_SL_0000027948</td>\n",
       "    </tr>\n",
       "    <tr>\n",
       "      <th>...</th>\n",
       "      <td>...</td>\n",
       "      <td>...</td>\n",
       "    </tr>\n",
       "    <tr>\n",
       "      <th>41933</th>\n",
       "      <td>/hdd1/dataset/KETI_SignLanguage/Video/23051~25...</td>\n",
       "      <td>KETI_SL_0000024898</td>\n",
       "    </tr>\n",
       "    <tr>\n",
       "      <th>41934</th>\n",
       "      <td>/hdd1/dataset/KETI_SignLanguage/Video/23051~25...</td>\n",
       "      <td>KETI_SL_0000024796</td>\n",
       "    </tr>\n",
       "    <tr>\n",
       "      <th>41935</th>\n",
       "      <td>/hdd1/dataset/KETI_SignLanguage/Video/23051~25...</td>\n",
       "      <td>KETI_SL_0000023722</td>\n",
       "    </tr>\n",
       "    <tr>\n",
       "      <th>41936</th>\n",
       "      <td>/hdd1/dataset/KETI_SignLanguage/Video/23051~25...</td>\n",
       "      <td>KETI_SL_0000023736</td>\n",
       "    </tr>\n",
       "    <tr>\n",
       "      <th>41937</th>\n",
       "      <td>/hdd1/dataset/KETI_SignLanguage/Video/23051~25...</td>\n",
       "      <td>KETI_SL_0000023404</td>\n",
       "    </tr>\n",
       "  </tbody>\n",
       "</table>\n",
       "<p>41920 rows × 2 columns</p>\n",
       "</div>"
      ],
      "text/plain": [
       "                                               directory                 파일명\n",
       "18     /hdd1/dataset/KETI_SignLanguage/Video/25565~28...  KETI_SL_0000026889\n",
       "19     /hdd1/dataset/KETI_SignLanguage/Video/25565~28...  KETI_SL_0000027989\n",
       "20     /hdd1/dataset/KETI_SignLanguage/Video/25565~28...  KETI_SL_0000027833\n",
       "21     /hdd1/dataset/KETI_SignLanguage/Video/25565~28...  KETI_SL_0000027271\n",
       "22     /hdd1/dataset/KETI_SignLanguage/Video/25565~28...  KETI_SL_0000027948\n",
       "...                                                  ...                 ...\n",
       "41933  /hdd1/dataset/KETI_SignLanguage/Video/23051~25...  KETI_SL_0000024898\n",
       "41934  /hdd1/dataset/KETI_SignLanguage/Video/23051~25...  KETI_SL_0000024796\n",
       "41935  /hdd1/dataset/KETI_SignLanguage/Video/23051~25...  KETI_SL_0000023722\n",
       "41936  /hdd1/dataset/KETI_SignLanguage/Video/23051~25...  KETI_SL_0000023736\n",
       "41937  /hdd1/dataset/KETI_SignLanguage/Video/23051~25...  KETI_SL_0000023404\n",
       "\n",
       "[41920 rows x 2 columns]"
      ]
     },
     "execution_count": 7,
     "metadata": {},
     "output_type": "execute_result"
    }
   ],
   "source": [
    "fold"
   ]
  },
  {
   "cell_type": "code",
   "execution_count": 8,
   "metadata": {},
   "outputs": [
    {
     "data": {
      "text/plain": [
       "True"
      ]
     },
     "execution_count": 8,
     "metadata": {},
     "output_type": "execute_result"
    }
   ],
   "source": [
    "fdf = pd.merge(df, fold, how='right')\n",
    "fdf.isnull().values.any()"
   ]
  },
  {
   "cell_type": "code",
   "execution_count": 9,
   "metadata": {},
   "outputs": [
    {
     "data": {
      "text/plain": [
       "False"
      ]
     },
     "execution_count": 9,
     "metadata": {},
     "output_type": "execute_result"
    }
   ],
   "source": [
    "fdf.dropna(inplace=True)\n",
    "fdf.isnull().values.any()"
   ]
  },
  {
   "cell_type": "code",
   "execution_count": 10,
   "metadata": {},
   "outputs": [],
   "source": [
    "# fdf = fdf[(fdf['타입(단어/문장)'] == '단어') & (fdf['방향'] == '정면')]\n",
    "fdf = fdf[fdf['타입(단어/문장)'] == '단어']"
   ]
  },
  {
   "cell_type": "code",
   "execution_count": 11,
   "metadata": {},
   "outputs": [
    {
     "data": {
      "text/plain": [
       "419"
      ]
     },
     "execution_count": 11,
     "metadata": {},
     "output_type": "execute_result"
    }
   ],
   "source": [
    "fdf['파일명'] = fdf['파일명'].astype(str)  # 문자열 변환\n",
    "fdf['한국어'] = fdf['한국어'].astype(str)\n",
    "\n",
    "label_name = list(set(fdf['한국어'].to_list()))\n",
    "label_name.sort()\n",
    "len(label_name)"
   ]
  },
  {
   "cell_type": "code",
   "execution_count": 12,
   "metadata": {},
   "outputs": [
    {
     "data": {
      "text/html": [
       "<div>\n",
       "<style scoped>\n",
       "    .dataframe tbody tr th:only-of-type {\n",
       "        vertical-align: middle;\n",
       "    }\n",
       "\n",
       "    .dataframe tbody tr th {\n",
       "        vertical-align: top;\n",
       "    }\n",
       "\n",
       "    .dataframe thead th {\n",
       "        text-align: right;\n",
       "    }\n",
       "</style>\n",
       "<table border=\"1\" class=\"dataframe\">\n",
       "  <thead>\n",
       "    <tr style=\"text-align: right;\">\n",
       "      <th></th>\n",
       "      <th>label</th>\n",
       "      <th>label_index</th>\n",
       "    </tr>\n",
       "  </thead>\n",
       "  <tbody>\n",
       "    <tr>\n",
       "      <th>0</th>\n",
       "      <td>0</td>\n",
       "      <td>0</td>\n",
       "    </tr>\n",
       "    <tr>\n",
       "      <th>1</th>\n",
       "      <td>1</td>\n",
       "      <td>1</td>\n",
       "    </tr>\n",
       "    <tr>\n",
       "      <th>2</th>\n",
       "      <td>10</td>\n",
       "      <td>2</td>\n",
       "    </tr>\n",
       "    <tr>\n",
       "      <th>3</th>\n",
       "      <td>100</td>\n",
       "      <td>3</td>\n",
       "    </tr>\n",
       "    <tr>\n",
       "      <th>4</th>\n",
       "      <td>1000</td>\n",
       "      <td>4</td>\n",
       "    </tr>\n",
       "    <tr>\n",
       "      <th>...</th>\n",
       "      <td>...</td>\n",
       "      <td>...</td>\n",
       "    </tr>\n",
       "    <tr>\n",
       "      <th>414</th>\n",
       "      <td>화상</td>\n",
       "      <td>414</td>\n",
       "    </tr>\n",
       "    <tr>\n",
       "      <th>415</th>\n",
       "      <td>화약</td>\n",
       "      <td>415</td>\n",
       "    </tr>\n",
       "    <tr>\n",
       "      <th>416</th>\n",
       "      <td>화요일</td>\n",
       "      <td>416</td>\n",
       "    </tr>\n",
       "    <tr>\n",
       "      <th>417</th>\n",
       "      <td>화장실</td>\n",
       "      <td>417</td>\n",
       "    </tr>\n",
       "    <tr>\n",
       "      <th>418</th>\n",
       "      <td>화재</td>\n",
       "      <td>418</td>\n",
       "    </tr>\n",
       "  </tbody>\n",
       "</table>\n",
       "<p>419 rows × 2 columns</p>\n",
       "</div>"
      ],
      "text/plain": [
       "    label  label_index\n",
       "0       0            0\n",
       "1       1            1\n",
       "2      10            2\n",
       "3     100            3\n",
       "4    1000            4\n",
       "..    ...          ...\n",
       "414    화상          414\n",
       "415    화약          415\n",
       "416   화요일          416\n",
       "417   화장실          417\n",
       "418    화재          418\n",
       "\n",
       "[419 rows x 2 columns]"
      ]
     },
     "execution_count": 12,
     "metadata": {},
     "output_type": "execute_result"
    }
   ],
   "source": [
    "df_label = pd.DataFrame({'label': label_name})\n",
    "df_label['label_index'] = df_label.index\n",
    "df_label"
   ]
  },
  {
   "cell_type": "code",
   "execution_count": 13,
   "metadata": {},
   "outputs": [
    {
     "data": {
      "text/html": [
       "<div>\n",
       "<style scoped>\n",
       "    .dataframe tbody tr th:only-of-type {\n",
       "        vertical-align: middle;\n",
       "    }\n",
       "\n",
       "    .dataframe tbody tr th {\n",
       "        vertical-align: top;\n",
       "    }\n",
       "\n",
       "    .dataframe thead th {\n",
       "        text-align: right;\n",
       "    }\n",
       "</style>\n",
       "<table border=\"1\" class=\"dataframe\">\n",
       "  <thead>\n",
       "    <tr style=\"text-align: right;\">\n",
       "      <th></th>\n",
       "      <th>번호</th>\n",
       "      <th>언어 제공자 ID</th>\n",
       "      <th>취득연도</th>\n",
       "      <th>방향</th>\n",
       "      <th>타입(단어/문장)</th>\n",
       "      <th>파일명</th>\n",
       "      <th>한국어</th>\n",
       "      <th>directory</th>\n",
       "      <th>label</th>\n",
       "      <th>label_index</th>\n",
       "    </tr>\n",
       "  </thead>\n",
       "  <tbody>\n",
       "    <tr>\n",
       "      <th>0</th>\n",
       "      <td>26889.0</td>\n",
       "      <td>24</td>\n",
       "      <td>2018.0</td>\n",
       "      <td>정면</td>\n",
       "      <td>단어</td>\n",
       "      <td>KETI_SL_0000026889</td>\n",
       "      <td>67</td>\n",
       "      <td>/hdd1/dataset/KETI_SignLanguage/Video/25565~28...</td>\n",
       "      <td>67</td>\n",
       "      <td>69</td>\n",
       "    </tr>\n",
       "    <tr>\n",
       "      <th>1</th>\n",
       "      <td>27989.0</td>\n",
       "      <td>24</td>\n",
       "      <td>2018.0</td>\n",
       "      <td>우측면</td>\n",
       "      <td>단어</td>\n",
       "      <td>KETI_SL_0000027989</td>\n",
       "      <td>위협</td>\n",
       "      <td>/hdd1/dataset/KETI_SignLanguage/Video/25565~28...</td>\n",
       "      <td>위협</td>\n",
       "      <td>326</td>\n",
       "    </tr>\n",
       "    <tr>\n",
       "      <th>2</th>\n",
       "      <td>27833.0</td>\n",
       "      <td>24</td>\n",
       "      <td>2018.0</td>\n",
       "      <td>우측면</td>\n",
       "      <td>단어</td>\n",
       "      <td>KETI_SL_0000027833</td>\n",
       "      <td>누수</td>\n",
       "      <td>/hdd1/dataset/KETI_SignLanguage/Video/25565~28...</td>\n",
       "      <td>누수</td>\n",
       "      <td>171</td>\n",
       "    </tr>\n",
       "    <tr>\n",
       "      <th>3</th>\n",
       "      <td>27271.0</td>\n",
       "      <td>24</td>\n",
       "      <td>2018.0</td>\n",
       "      <td>좌측면</td>\n",
       "      <td>단어</td>\n",
       "      <td>KETI_SL_0000027271</td>\n",
       "      <td>30</td>\n",
       "      <td>/hdd1/dataset/KETI_SignLanguage/Video/25565~28...</td>\n",
       "      <td>30</td>\n",
       "      <td>29</td>\n",
       "    </tr>\n",
       "    <tr>\n",
       "      <th>4</th>\n",
       "      <td>27948.0</td>\n",
       "      <td>24</td>\n",
       "      <td>2018.0</td>\n",
       "      <td>우측면</td>\n",
       "      <td>단어</td>\n",
       "      <td>KETI_SL_0000027948</td>\n",
       "      <td>약국</td>\n",
       "      <td>/hdd1/dataset/KETI_SignLanguage/Video/25565~28...</td>\n",
       "      <td>약국</td>\n",
       "      <td>284</td>\n",
       "    </tr>\n",
       "    <tr>\n",
       "      <th>...</th>\n",
       "      <td>...</td>\n",
       "      <td>...</td>\n",
       "      <td>...</td>\n",
       "      <td>...</td>\n",
       "      <td>...</td>\n",
       "      <td>...</td>\n",
       "      <td>...</td>\n",
       "      <td>...</td>\n",
       "      <td>...</td>\n",
       "      <td>...</td>\n",
       "    </tr>\n",
       "    <tr>\n",
       "      <th>33512</th>\n",
       "      <td>24898.0</td>\n",
       "      <td>22</td>\n",
       "      <td>2018.0</td>\n",
       "      <td>좌측면</td>\n",
       "      <td>단어</td>\n",
       "      <td>KETI_SL_0000024898</td>\n",
       "      <td>농약</td>\n",
       "      <td>/hdd1/dataset/KETI_SignLanguage/Video/23051~25...</td>\n",
       "      <td>농약</td>\n",
       "      <td>169</td>\n",
       "    </tr>\n",
       "    <tr>\n",
       "      <th>33513</th>\n",
       "      <td>24796.0</td>\n",
       "      <td>22</td>\n",
       "      <td>2018.0</td>\n",
       "      <td>좌측면</td>\n",
       "      <td>단어</td>\n",
       "      <td>KETI_SL_0000024796</td>\n",
       "      <td>69</td>\n",
       "      <td>/hdd1/dataset/KETI_SignLanguage/Video/23051~25...</td>\n",
       "      <td>69</td>\n",
       "      <td>71</td>\n",
       "    </tr>\n",
       "    <tr>\n",
       "      <th>33514</th>\n",
       "      <td>23722.0</td>\n",
       "      <td>21</td>\n",
       "      <td>2018.0</td>\n",
       "      <td>좌측면</td>\n",
       "      <td>단어</td>\n",
       "      <td>KETI_SL_0000023722</td>\n",
       "      <td>서울시</td>\n",
       "      <td>/hdd1/dataset/KETI_SignLanguage/Video/23051~25...</td>\n",
       "      <td>서울시</td>\n",
       "      <td>248</td>\n",
       "    </tr>\n",
       "    <tr>\n",
       "      <th>33515</th>\n",
       "      <td>23736.0</td>\n",
       "      <td>21</td>\n",
       "      <td>2018.0</td>\n",
       "      <td>좌측면</td>\n",
       "      <td>단어</td>\n",
       "      <td>KETI_SL_0000023736</td>\n",
       "      <td>송파구</td>\n",
       "      <td>/hdd1/dataset/KETI_SignLanguage/Video/23051~25...</td>\n",
       "      <td>송파구</td>\n",
       "      <td>262</td>\n",
       "    </tr>\n",
       "    <tr>\n",
       "      <th>33516</th>\n",
       "      <td>23404.0</td>\n",
       "      <td>21</td>\n",
       "      <td>2018.0</td>\n",
       "      <td>정면</td>\n",
       "      <td>단어</td>\n",
       "      <td>KETI_SL_0000023404</td>\n",
       "      <td>장난감</td>\n",
       "      <td>/hdd1/dataset/KETI_SignLanguage/Video/23051~25...</td>\n",
       "      <td>장난감</td>\n",
       "      <td>351</td>\n",
       "    </tr>\n",
       "  </tbody>\n",
       "</table>\n",
       "<p>33517 rows × 10 columns</p>\n",
       "</div>"
      ],
      "text/plain": [
       "            번호 언어 제공자 ID    취득연도   방향 타입(단어/문장)                 파일명  한국어  \\\n",
       "0      26889.0        24  2018.0   정면        단어  KETI_SL_0000026889   67   \n",
       "1      27989.0        24  2018.0  우측면        단어  KETI_SL_0000027989   위협   \n",
       "2      27833.0        24  2018.0  우측면        단어  KETI_SL_0000027833   누수   \n",
       "3      27271.0        24  2018.0  좌측면        단어  KETI_SL_0000027271   30   \n",
       "4      27948.0        24  2018.0  우측면        단어  KETI_SL_0000027948   약국   \n",
       "...        ...       ...     ...  ...       ...                 ...  ...   \n",
       "33512  24898.0        22  2018.0  좌측면        단어  KETI_SL_0000024898   농약   \n",
       "33513  24796.0        22  2018.0  좌측면        단어  KETI_SL_0000024796   69   \n",
       "33514  23722.0        21  2018.0  좌측면        단어  KETI_SL_0000023722  서울시   \n",
       "33515  23736.0        21  2018.0  좌측면        단어  KETI_SL_0000023736  송파구   \n",
       "33516  23404.0        21  2018.0   정면        단어  KETI_SL_0000023404  장난감   \n",
       "\n",
       "                                               directory label  label_index  \n",
       "0      /hdd1/dataset/KETI_SignLanguage/Video/25565~28...    67           69  \n",
       "1      /hdd1/dataset/KETI_SignLanguage/Video/25565~28...    위협          326  \n",
       "2      /hdd1/dataset/KETI_SignLanguage/Video/25565~28...    누수          171  \n",
       "3      /hdd1/dataset/KETI_SignLanguage/Video/25565~28...    30           29  \n",
       "4      /hdd1/dataset/KETI_SignLanguage/Video/25565~28...    약국          284  \n",
       "...                                                  ...   ...          ...  \n",
       "33512  /hdd1/dataset/KETI_SignLanguage/Video/23051~25...    농약          169  \n",
       "33513  /hdd1/dataset/KETI_SignLanguage/Video/23051~25...    69           71  \n",
       "33514  /hdd1/dataset/KETI_SignLanguage/Video/23051~25...   서울시          248  \n",
       "33515  /hdd1/dataset/KETI_SignLanguage/Video/23051~25...   송파구          262  \n",
       "33516  /hdd1/dataset/KETI_SignLanguage/Video/23051~25...   장난감          351  \n",
       "\n",
       "[33517 rows x 10 columns]"
      ]
     },
     "execution_count": 13,
     "metadata": {},
     "output_type": "execute_result"
    }
   ],
   "source": [
    "fdf = pd.merge(fdf, df_label, how='left', left_on='한국어', right_on='label')\n",
    "fdf"
   ]
  },
  {
   "cell_type": "code",
   "execution_count": 14,
   "metadata": {},
   "outputs": [
    {
     "data": {
      "text/plain": [
       "30"
      ]
     },
     "execution_count": 14,
     "metadata": {},
     "output_type": "execute_result"
    }
   ],
   "source": [
    "signer_ids = np.unique(fdf['언어 제공자 ID'])\n",
    "len(signer_ids)"
   ]
  },
  {
   "cell_type": "code",
   "execution_count": 15,
   "metadata": {},
   "outputs": [
    {
     "data": {
      "text/plain": [
       "array([1, 2, 3, 4, 5, 6, 7, 8, 9, 10, 11, 12, 13, 14, 15, 16, 17, 18, 19,\n",
       "       20, 21, 22, 23, 24, 25, 26, 27, 28, 29, 30], dtype=object)"
      ]
     },
     "execution_count": 15,
     "metadata": {},
     "output_type": "execute_result"
    }
   ],
   "source": [
    "signer_ids"
   ]
  },
  {
   "cell_type": "code",
   "execution_count": 16,
   "metadata": {},
   "outputs": [
    {
     "name": "stdout",
     "output_type": "stream",
     "text": [
      "[838, 838, 838, 838, 838, 838, 838, 838, 838, 838, 1257, 1257, 1256, 1257, 1257, 1257, 1257, 1255, 1257, 1257, 1257, 1257, 1257, 1257, 1257, 1257, 1257, 1257, 1257, 1257]\n"
     ]
    }
   ],
   "source": [
    "num_data_per_signer = [len(fdf[fdf['언어 제공자 ID']==i]) for i in range(1, 31)]\n",
    "print(num_data_per_signer)"
   ]
  },
  {
   "cell_type": "code",
   "execution_count": null,
   "metadata": {},
   "outputs": [],
   "source": [
    "419 * 30"
   ]
  },
  {
   "cell_type": "code",
   "execution_count": null,
   "metadata": {},
   "outputs": [],
   "source": [
    "# for i in range(1, 31):\n",
    "#     df_signer = fdf[fdf['언어 제공자 ID']==i]\n",
    "#     print(np.unique(df_signer['label_index'], return_counts=True))\n",
    "#     print(len(np.unique(df_signer['label_index'])))"
   ]
  },
  {
   "cell_type": "code",
   "execution_count": 17,
   "metadata": {},
   "outputs": [
    {
     "data": {
      "text/plain": [
       "(25137, 8380)"
      ]
     },
     "execution_count": 17,
     "metadata": {},
     "output_type": "execute_result"
    }
   ],
   "source": [
    "fdf_train = fdf.loc[fdf['언어 제공자 ID'] > 10, ['파일명', 'label_index']]\n",
    "fdf_val = fdf.loc[fdf['언어 제공자 ID'] <= 10, ['파일명', 'label_index']]\n",
    "len(fdf_train), len(fdf_val)"
   ]
  },
  {
   "cell_type": "code",
   "execution_count": 18,
   "metadata": {},
   "outputs": [],
   "source": [
    "fdf_train.to_csv('./label_KETI_train_all.csv', mode='w', index=None, header=False)\n",
    "fdf_val.to_csv('./label_KETI_val_all.csv', mode='w', index=None, header=False)"
   ]
  },
  {
   "cell_type": "code",
   "execution_count": null,
   "metadata": {},
   "outputs": [],
   "source": []
  }
 ],
 "metadata": {
  "kernelspec": {
   "display_name": "Python 3.10.4 ('pytorch')",
   "language": "python",
   "name": "python3"
  },
  "language_info": {
   "codemirror_mode": {
    "name": "ipython",
    "version": 3
   },
   "file_extension": ".py",
   "mimetype": "text/x-python",
   "name": "python",
   "nbconvert_exporter": "python",
   "pygments_lexer": "ipython3",
   "version": "3.9.11"
  },
  "orig_nbformat": 4,
  "vscode": {
   "interpreter": {
    "hash": "d1a104cc5a30ffb61dcba35c048d59e2a2543d3b82917e7c4c5fa986c3cfbc1d"
   }
  }
 },
 "nbformat": 4,
 "nbformat_minor": 2
}
